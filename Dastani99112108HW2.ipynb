{
  "nbformat": 4,
  "nbformat_minor": 0,
  "metadata": {
    "colab": {
      "name": "Dastani99112108HW2.ipynb",
      "provenance": [],
      "collapsed_sections": [],
      "toc_visible": true
    },
    "kernelspec": {
      "name": "python3",
      "display_name": "Python 3"
    },
    "language_info": {
      "name": "python"
    }
  },
  "cells": [
    {
      "cell_type": "markdown",
      "metadata": {
        "id": "_WcIUdA_kyMK"
      },
      "source": [
        "#***First Section"
      ]
    },
    {
      "cell_type": "markdown",
      "metadata": {
        "id": "XxFG5mfURavW"
      },
      "source": [
        "##1)Using python functions"
      ]
    },
    {
      "cell_type": "markdown",
      "metadata": {
        "id": "oydcxAzaSsSX"
      },
      "source": [
        "###Importing Libraries"
      ]
    },
    {
      "cell_type": "code",
      "metadata": {
        "colab": {
          "base_uri": "https://localhost:8080/"
        },
        "id": "-LC4AMi6RxoN",
        "outputId": "a27e60c2-955a-494a-dd82-434aaeb2f0b7"
      },
      "source": [
        "import numpy as np\n",
        "\n",
        "import tensorflow as tf\n",
        "from tensorflow.keras import models, layers, activations\n",
        "from sklearn.model_selection import train_test_split\n",
        "\n",
        "print(tf.__version__)\n",
        "# set random seed to get reproducible results\n",
        "np.random.seed(0)\n",
        "tf.random.set_seed(1)\n",
        "\n",
        "# only for Google Colab compatibiity\n",
        "try:\n",
        "  # %tensorflow_version only exists in Colab.\n",
        "  %tensorflow_version 2.x\n",
        "except Exception:\n",
        "  pass"
      ],
      "execution_count": 1,
      "outputs": [
        {
          "output_type": "stream",
          "text": [
            "2.4.1\n"
          ],
          "name": "stdout"
        }
      ]
    },
    {
      "cell_type": "markdown",
      "metadata": {
        "id": "lX3V9KdrSwdc"
      },
      "source": [
        "###Creating Dataset"
      ]
    },
    {
      "cell_type": "code",
      "metadata": {
        "id": "6-9ST0A5SI9h"
      },
      "source": [
        "max_bits = 8\n",
        "n_samples = 100000\n",
        "\n",
        "# samples in decimal form\n",
        "samples = np.random.randint(np.power(2, max_bits-1), size=(n_samples, 2))\n",
        "summed_samples = np.sum(samples, axis=1)\n",
        "\n",
        "# convert samples to binary representation\n",
        "samples_binary_repr = [[np.binary_repr(a, width=max_bits), np.binary_repr(b, width=max_bits)] for a,b in samples]\n",
        "summed_binary_repr = [np.binary_repr(c, width=max_bits) for c in summed_samples]\n",
        "\n",
        "x_str = np.array([[list(a), list(b)] for a, b in samples_binary_repr])\n",
        "y_str = np.array([list(c) for c in summed_binary_repr])\n",
        "\n",
        "# flip binary representation to get increasing significant bit\n",
        "x_flipped = np.flip(x_str, axis=-1)\n",
        "y_flipped = np.flip(y_str, axis=-1)\n",
        "\n",
        "# convert string to numbers\n",
        "x = np.transpose((x_flipped == '1')*1, axes=(0, 2, 1))\n",
        "y = (y_flipped == '1')*1\n",
        "\n",
        "x_train, x_test, y_train, y_test = train_test_split(x, y, test_size=0.1, shuffle=True)"
      ],
      "execution_count": 2,
      "outputs": []
    },
    {
      "cell_type": "markdown",
      "metadata": {
        "id": "XtZumNVnTJ2L"
      },
      "source": [
        "###Structure of RNN"
      ]
    },
    {
      "cell_type": "code",
      "metadata": {
        "id": "HCK870MfSJAK"
      },
      "source": [
        "class FullAdderCell(layers.Layer):\n",
        "    def __init__(self, hidden_units, **kwargs):\n",
        "        super(FullAdderCell, self).__init__(**kwargs)\n",
        "        self.units = 1\n",
        "        self.state_size = 1\n",
        "        self.hidden_units = hidden_units\n",
        "\n",
        "    def build(self, input_shape):\n",
        "        self.hidden_kernel = self.add_weight(shape=(input_shape[-1] + self.state_size, self.hidden_units),\n",
        "                                      initializer='uniform',\n",
        "                                      name='hidden_kernel')\n",
        "        self.hidden_bias = self.add_weight(shape=(1, self.hidden_units),\n",
        "                                      initializer='uniform',\n",
        "                                      name='hidden_bias')\n",
        "        self.output_kernel = self.add_weight(shape=(self.hidden_units, self.units + self.state_size),\n",
        "                                      initializer='uniform',\n",
        "                                      name='output_kernel')\n",
        "        self.output_bias = self.add_weight(shape=(1, self.units + self.state_size),\n",
        "                                      initializer='uniform',\n",
        "                                      name='output_bias')\n",
        "        self.built = True\n",
        "\n",
        "    def call(self, inputs, states):\n",
        "        x = tf.concat([inputs, states[0]], axis=-1)\n",
        "        h = tf.keras.activations.tanh(tf.matmul(x, self.hidden_kernel) + self.hidden_bias)\n",
        "        o_s = tf.keras.activations.sigmoid(tf.matmul(h, self.output_kernel) + self.output_bias)\n",
        "        output = o_s[:, :self.units]\n",
        "        state = o_s[:, self.units:]\n",
        "        return output, [state]\n"
      ],
      "execution_count": 3,
      "outputs": []
    },
    {
      "cell_type": "markdown",
      "metadata": {
        "id": "qRVHZtGaTP9W"
      },
      "source": [
        "###Creating Model"
      ]
    },
    {
      "cell_type": "code",
      "metadata": {
        "id": "DmLod_gwSJCp",
        "colab": {
          "base_uri": "https://localhost:8080/"
        },
        "outputId": "c316cc5c-2623-4c1d-f13f-5770d6490e71"
      },
      "source": [
        "model = tf.keras.Sequential(name='full_adder')\n",
        "model.add(layers.RNN(FullAdderCell(3), return_sequences=True, input_shape=(None, 2)))\n",
        "\n",
        "model.summary()\n",
        "\n",
        "model.compile(loss='binary_crossentropy', optimizer='adam', metrics=['accuracy'])\n",
        "\n",
        "model.fit(x_train, y_train, batch_size=32, epochs=5)\n",
        "scores = model.evaluate(x_test, y_test, verbose=2)"
      ],
      "execution_count": 4,
      "outputs": [
        {
          "output_type": "stream",
          "text": [
            "Model: \"full_adder\"\n",
            "_________________________________________________________________\n",
            "Layer (type)                 Output Shape              Param #   \n",
            "=================================================================\n",
            "rnn (RNN)                    (None, None, 1)           20        \n",
            "=================================================================\n",
            "Total params: 20\n",
            "Trainable params: 20\n",
            "Non-trainable params: 0\n",
            "_________________________________________________________________\n",
            "Epoch 1/5\n",
            "2813/2813 [==============================] - 9s 3ms/step - loss: 0.6931 - accuracy: 0.5012\n",
            "Epoch 2/5\n",
            "2813/2813 [==============================] - 8s 3ms/step - loss: 0.4994 - accuracy: 0.7993\n",
            "Epoch 3/5\n",
            "2813/2813 [==============================] - 8s 3ms/step - loss: 0.0921 - accuracy: 1.0000\n",
            "Epoch 4/5\n",
            "2813/2813 [==============================] - 7s 3ms/step - loss: 0.0184 - accuracy: 1.0000\n",
            "Epoch 5/5\n",
            "2813/2813 [==============================] - 7s 3ms/step - loss: 0.0046 - accuracy: 1.0000\n",
            "313/313 - 1s - loss: 0.0017 - accuracy: 1.0000\n"
          ],
          "name": "stdout"
        }
      ]
    },
    {
      "cell_type": "markdown",
      "metadata": {
        "id": "5AC6sjSaTZ5u"
      },
      "source": [
        "###Testing the model"
      ]
    },
    {
      "cell_type": "code",
      "metadata": {
        "id": "iq_w-XCDSJE6",
        "colab": {
          "base_uri": "https://localhost:8080/"
        },
        "outputId": "935bd3ab-2746-436f-a0de-112439e9c903"
      },
      "source": [
        "max_bits = 8\n",
        "\n",
        "a = np.random.randint(np.power(2, max_bits-1))\n",
        "b = np.random.randint(np.power(2, max_bits-1))\n",
        "\n",
        "a_bin = np.float32(1) * (np.flip(list(np.binary_repr(a, width=max_bits)), axis=-1) == '1')\n",
        "b_bin = np.float32(1) * (np.flip(list(np.binary_repr(b, width=max_bits)), axis=-1) == '1')\n",
        "\n",
        "print('a: {}, b: {}'.format(a, b))\n",
        "print('binary representations -> a: {}, b: {}'.format(a_bin, b_bin))\n",
        "\n",
        "a_b = np.stack((a_bin, b_bin), axis=-1).reshape(1,-1,2)\n",
        "print('a_b: {}'.format(a_b))"
      ],
      "execution_count": 5,
      "outputs": [
        {
          "output_type": "stream",
          "text": [
            "a: 48, b: 10\n",
            "binary representations -> a: [0. 0. 0. 0. 1. 1. 0. 0.], b: [0. 1. 0. 1. 0. 0. 0. 0.]\n",
            "a_b: [[[0. 0.]\n",
            "  [0. 1.]\n",
            "  [0. 0.]\n",
            "  [0. 1.]\n",
            "  [1. 0.]\n",
            "  [1. 0.]\n",
            "  [0. 0.]\n",
            "  [0. 0.]]]\n"
          ],
          "name": "stdout"
        }
      ]
    },
    {
      "cell_type": "code",
      "metadata": {
        "id": "eKiK6tEgSJHu",
        "colab": {
          "base_uri": "https://localhost:8080/"
        },
        "outputId": "6a5f4870-2422-4873-ff24-87ce24072691"
      },
      "source": [
        "predictions = model(a_b).numpy().flatten()\n",
        "\n",
        "summed_bin = 1 * (predictions > 0.5)\n",
        "summed = np.packbits(np.flip(summed_bin , axis=-1))[0]\n",
        "print('predictions: {}'.format(predictions))\n",
        "print('binary representations -> summed: {}'.format(summed_bin))\n",
        "print('summed: {}'.format(summed))"
      ],
      "execution_count": 6,
      "outputs": [
        {
          "output_type": "stream",
          "text": [
            "predictions: [0.00121176 0.9986558  0.00121257 0.9986558  0.9986553  0.9986553\n",
            " 0.00121257 0.00121173]\n",
            "binary representations -> summed: [0 1 0 1 1 1 0 0]\n",
            "summed: 58\n"
          ],
          "name": "stdout"
        }
      ]
    },
    {
      "cell_type": "markdown",
      "metadata": {
        "id": "la-Ap9XiRayF"
      },
      "source": [
        "##2)Building from scratch"
      ]
    },
    {
      "cell_type": "markdown",
      "metadata": {
        "id": "05sPrcaBfPSn"
      },
      "source": [
        "### Importing Libraries"
      ]
    },
    {
      "cell_type": "code",
      "metadata": {
        "id": "gEUuMjP7EEmv"
      },
      "source": [
        "import numpy as np\n",
        "%matplotlib notebook\n",
        "import matplotlib.pyplot as plt\n",
        "import seaborn as sns\n",
        "import sys\n",
        "import itertools\n",
        "\n",
        "sns.set_style('darkgrid')\n",
        "np.random.seed(seed=1)"
      ],
      "execution_count": 7,
      "outputs": []
    },
    {
      "cell_type": "markdown",
      "metadata": {
        "id": "DaBjSAaAkRA4"
      },
      "source": [
        "### Create Dataset"
      ]
    },
    {
      "cell_type": "code",
      "metadata": {
        "id": "85BNCcqJlfE0"
      },
      "source": [
        "# Number of training samples\n",
        "nb_train = 2000  \n",
        "# Length of the binary sequence\n",
        "sequence_len = 7  "
      ],
      "execution_count": 8,
      "outputs": []
    },
    {
      "cell_type": "code",
      "metadata": {
        "id": "q3p2mGe9fU7k"
      },
      "source": [
        "def create_dataset(nb_samples, sequence_len):\n",
        "\n",
        "    # Maximum integer that can be added\n",
        "    max_int = 2**(sequence_len-1) \n",
        "    \n",
        "    # Transform integer in binary format\n",
        "    format_str = '{:0' + str(sequence_len) + 'b}'\n",
        "\n",
        "    # Add 2 binary numbers\n",
        "    nb_inputs = 2  \n",
        "\n",
        "    # Result is 1 binary number\n",
        "    nb_outputs = 1  \n",
        "\n",
        "    # Input samples\n",
        "    X = np.zeros((nb_samples, sequence_len, nb_inputs))\n",
        "\n",
        "    # Target samples\n",
        "    T = np.zeros((nb_samples, sequence_len, nb_outputs))\n",
        "\n",
        "    # Fill up the input and target matrix\n",
        "    for i in range(nb_samples):\n",
        "        \n",
        "        # Generate random numbers to add\n",
        "        nb1 = np.random.randint(0, max_int)\n",
        "        nb2 = np.random.randint(0, max_int)\n",
        "\n",
        "        # Fill current input and target row.\n",
        "        X[i,:,0] = list(\n",
        "            reversed([int(b) for b in format_str.format(nb1)]))\n",
        "        X[i,:,1] = list(\n",
        "            reversed([int(b) for b in format_str.format(nb2)]))\n",
        "        T[i,:,0] = list(\n",
        "            reversed([int(b) for b in format_str.format(nb1+nb2)]))\n",
        "    return X, T"
      ],
      "execution_count": 9,
      "outputs": []
    },
    {
      "cell_type": "code",
      "metadata": {
        "colab": {
          "base_uri": "https://localhost:8080/"
        },
        "id": "YeV4rTR7laWP",
        "outputId": "1557a7cb-a6b2-4b1a-ca1e-65bc2bdd6b5b"
      },
      "source": [
        "# Create training samples\n",
        "X_train, T_train = create_dataset(nb_train, sequence_len)\n",
        "\n",
        "print(f'X_train tensor shape: {X_train.shape}')\n",
        "print(f'T_train tensor shape: {T_train.shape}')"
      ],
      "execution_count": 10,
      "outputs": [
        {
          "output_type": "stream",
          "text": [
            "X_train tensor shape: (2000, 7, 2)\n",
            "T_train tensor shape: (2000, 7, 1)\n"
          ],
          "name": "stdout"
        }
      ]
    },
    {
      "cell_type": "markdown",
      "metadata": {
        "id": "TTEqnuXz5fZK"
      },
      "source": [
        "### Sample of input and output"
      ]
    },
    {
      "cell_type": "code",
      "metadata": {
        "id": "eXB503qa5rvY"
      },
      "source": [
        "def printSample(x1, x2, t, y=None):\n",
        "\n",
        "    x1 = ''.join([str(int(d)) for d in x1])\n",
        "    x1_r = int(''.join(reversed(x1)), 2)\n",
        "\n",
        "    x2 = ''.join([str(int(d)) for d in x2])\n",
        "    x2_r = int(''.join(reversed(x2)), 2)\n",
        "\n",
        "    t = ''.join([str(int(d[0])) for d in t])\n",
        "    t_r = int(''.join(reversed(t)), 2)\n",
        "\n",
        "    if not y is None:\n",
        "        y = ''.join([str(int(d[0])) for d in y])\n",
        "\n",
        "    print(f'x1:   {x1:s}   {x1_r:2d}')\n",
        "    print(f'x2: + {x2:s}   {x2_r:2d}')\n",
        "    print(f'      -------   --')\n",
        "    print(f't:  = {t:s}   {t_r:2d}')\n",
        "    if not y is None:\n",
        "        print(f'y:  = {y:s}')"
      ],
      "execution_count": 11,
      "outputs": []
    },
    {
      "cell_type": "code",
      "metadata": {
        "colab": {
          "base_uri": "https://localhost:8080/"
        },
        "id": "G_VmlMZc6a0I",
        "outputId": "ba177643-0c41-406f-c706-4c9b188d45c4"
      },
      "source": [
        "printSample(X_train[0,:,0], X_train[0,:,1], T_train[0,:,:])"
      ],
      "execution_count": 12,
      "outputs": [
        {
          "output_type": "stream",
          "text": [
            "x1:   1010010   37\n",
            "x2: + 1101010   43\n",
            "      -------   --\n",
            "t:  = 0000101   80\n"
          ],
          "name": "stdout"
        }
      ]
    },
    {
      "cell_type": "markdown",
      "metadata": {
        "id": "kl0eyFUwPF5b"
      },
      "source": [
        "### Linear Transformation"
      ]
    },
    {
      "cell_type": "code",
      "metadata": {
        "id": "Z1ja9E2x6cFe"
      },
      "source": [
        "class TensorLinear(object):\n",
        "    def __init__(self, n_in, n_out, tensor_order, W=None, b=None):\n",
        "        a = np.sqrt(6.0 / (n_in + n_out))\n",
        "        self.W = (np.random.uniform(-a, a, (n_in, n_out)) \n",
        "                  if W is None else W)\n",
        "        self.b = (np.zeros((n_out)) if b is None else b)\n",
        "        self.bpAxes = tuple(range(tensor_order-1))\n",
        "\n",
        "    def forward(self, X):\n",
        "        return np.tensordot(X, self.W, axes=((-1),(0))) + self.b\n",
        "\n",
        "    def backward(self, X, gY):\n",
        "        gW = np.tensordot(X, gY, axes=(self.bpAxes, self.bpAxes))\n",
        "        gB = np.sum(gY, axis=self.bpAxes)\n",
        "        gX = np.tensordot(gY, self.W.T, axes=((-1),(0)))  \n",
        "        return gX, gW, gB"
      ],
      "execution_count": 13,
      "outputs": []
    },
    {
      "cell_type": "markdown",
      "metadata": {
        "id": "VGBiLxixPvLw"
      },
      "source": [
        "### Logistic Classification"
      ]
    },
    {
      "cell_type": "code",
      "metadata": {
        "id": "1gCU0OoQPmzI"
      },
      "source": [
        "class LogisticClassifier(object):\n",
        "   \n",
        "    def forward(self, X):\n",
        "        return 1. / (1. + np.exp(-X))\n",
        "    \n",
        "    def backward(self, Y, T):\n",
        "        return (Y - T) / (Y.shape[0] * Y.shape[1])\n",
        "    \n",
        "    def loss(self, Y, T):\n",
        "        return -np.mean((T * np.log(Y)) + ((1-T) * np.log(1-Y)))"
      ],
      "execution_count": 14,
      "outputs": []
    },
    {
      "cell_type": "markdown",
      "metadata": {
        "id": "PnCsG0bgSP71"
      },
      "source": [
        "### Unfolding the recurrent states\n"
      ]
    },
    {
      "cell_type": "markdown",
      "metadata": {
        "id": "oT44X-00lANb"
      },
      "source": [
        "#### Define tanh layer"
      ]
    },
    {
      "cell_type": "code",
      "metadata": {
        "id": "v6uyZyGEP5I-"
      },
      "source": [
        "class TanH(object):\n",
        "    def forward(self, X):\n",
        "        return np.tanh(X) \n",
        "    \n",
        "    def backward(self, Y, output_grad):\n",
        "        gTanh = 1.0 - (Y**2)\n",
        "        return (gTanh * output_grad)"
      ],
      "execution_count": 15,
      "outputs": []
    },
    {
      "cell_type": "markdown",
      "metadata": {
        "id": "Icc4fjIiSfpk"
      },
      "source": [
        "#### Define internal state update layer"
      ]
    },
    {
      "cell_type": "code",
      "metadata": {
        "id": "RnkG34DiSebg"
      },
      "source": [
        "class RecurrentStateUpdate(object):\n",
        "    def __init__(self, nbStates, W, b):\n",
        "        self.linear = TensorLinear(nbStates, nbStates, 2, W, b)\n",
        "        self.tanh = TanH()\n",
        "\n",
        "    def forward(self, Xk, Sk):\n",
        "        return self.tanh.forward(Xk + self.linear.forward(Sk))\n",
        "    \n",
        "    def backward(self, Sk0, Sk1, output_grad):\n",
        "        gZ = self.tanh.backward(Sk1, output_grad)\n",
        "        gSk0, gW, gB = self.linear.backward(Sk0, gZ)\n",
        "        return gZ, gSk0, gW, gB"
      ],
      "execution_count": 16,
      "outputs": []
    },
    {
      "cell_type": "markdown",
      "metadata": {
        "id": "3Rq5Dkrjvc-Y"
      },
      "source": [
        "#### Define layer that unfolds the states over time"
      ]
    },
    {
      "cell_type": "code",
      "metadata": {
        "id": "YFa9DWtSSnP6"
      },
      "source": [
        "class RecurrentStateUnfold(object):\n",
        "    def __init__(self, nbStates, nbTimesteps):\n",
        "        a = np.sqrt(6. / (nbStates * 2))\n",
        "        self.W = np.random.uniform(-a, a, (nbStates, nbStates))\n",
        "        self.b = np.zeros((self.W.shape[0])) \n",
        "        self.S0 = np.zeros(nbStates) \n",
        "        self.nbTimesteps = nbTimesteps \n",
        "        self.stateUpdate = RecurrentStateUpdate(\n",
        "            nbStates, self.W, self.b) \n",
        "        \n",
        "    def forward(self, X):\n",
        "        S = np.zeros((X.shape[0], X.shape[1]+1, self.W.shape[0]))\n",
        "        S[:,0,:] = self.S0 \n",
        "        for k in range(self.nbTimesteps):\n",
        "            S[:,k+1,:] = self.stateUpdate.forward(X[:,k,:], S[:,k,:])\n",
        "        return S\n",
        "    \n",
        "    def backward(self, X, S, gY):\n",
        "        gSk = np.zeros_like(gY[:,self.nbTimesteps-1,:])\n",
        "        gZ = np.zeros_like(X)\n",
        "        gWSum = np.zeros_like(self.W) \n",
        "        gBSum = np.zeros_like(self.b) \n",
        "        for k in range(self.nbTimesteps-1, -1, -1):\n",
        "            gSk += gY[:,k,:]\n",
        "            gZ[:,k,:], gSk, gW, gB = self.stateUpdate.backward(\n",
        "                S[:,k,:], S[:,k+1,:], gSk)\n",
        "            gWSum += gW  \n",
        "            gBSum += gB  \n",
        "        gS0 = np.sum(gSk, axis=0)\n",
        "        return gZ, gWSum, gBSum, gS0"
      ],
      "execution_count": 17,
      "outputs": []
    },
    {
      "cell_type": "markdown",
      "metadata": {
        "id": "cCQzwYU48-U6"
      },
      "source": [
        "### Network"
      ]
    },
    {
      "cell_type": "code",
      "metadata": {
        "id": "0Kblf9DV9AFE"
      },
      "source": [
        "# Define the full network\n",
        "class RnnBinaryAdder(object):\n",
        "    def __init__(self, nb_of_inputs, nb_of_outputs, nb_of_states, \n",
        "                 sequence_len):\n",
        "        self.tensorInput = TensorLinear(nb_of_inputs, nb_of_states, 3)\n",
        "        self.rnnUnfold = RecurrentStateUnfold(nb_of_states, sequence_len)\n",
        "        self.tensorOutput = TensorLinear(nb_of_states, nb_of_outputs, 3)\n",
        "        self.classifier = LogisticClassifier() \n",
        "        \n",
        "    def forward(self, X):\n",
        "        recIn = self.tensorInput.forward(X)\n",
        "        S = self.rnnUnfold.forward(recIn)\n",
        "        Z = self.tensorOutput.forward(S[:,1:sequence_len+1,:])\n",
        "        Y = self.classifier.forward(Z) \n",
        "        return recIn, S, Z, Y\n",
        "    \n",
        "    def backward(self, X, Y, recIn, S, T):\n",
        "        gZ = self.classifier.backward(Y, T)  \n",
        "        gRecOut, gWout, gBout = self.tensorOutput.backward(\n",
        "            S[:,1:sequence_len+1,:], gZ)\n",
        "        gRnnIn, gWrec, gBrec, gS0 = self.rnnUnfold.backward(\n",
        "            recIn, S, gRecOut)\n",
        "        gX, gWin, gBin = self.tensorInput.backward(X, gRnnIn)\n",
        "        return gWout, gBout, gWrec, gBrec, gWin, gBin, gS0\n",
        "    \n",
        "    def getOutput(self, X):\n",
        "        recIn, S, Z, Y = self.forward(X)\n",
        "        return Y\n",
        "    \n",
        "    def getBinaryOutput(self, X):\n",
        "        return np.around(self.getOutput(X))\n",
        "    \n",
        "    def getParamGrads(self, X, T):\n",
        "        recIn, S, Z, Y = self.forward(X)\n",
        "        gWout, gBout, gWrec, gBrec, gWin, gBin, gS0 = self.backward(\n",
        "            X, Y, recIn, S, T)\n",
        "        return [g for g in itertools.chain(\n",
        "                np.nditer(gS0),\n",
        "                np.nditer(gWin),\n",
        "                np.nditer(gBin),\n",
        "                np.nditer(gWrec),\n",
        "                np.nditer(gBrec),\n",
        "                np.nditer(gWout),\n",
        "                np.nditer(gBout))]\n",
        "    \n",
        "    def loss(self, Y, T):\n",
        "        return self.classifier.loss(Y, T)\n",
        "    \n",
        "    def get_params_iter(self):\n",
        "        return itertools.chain(\n",
        "            np.nditer(self.rnnUnfold.S0, op_flags=['readwrite']),\n",
        "            np.nditer(self.tensorInput.W, op_flags=['readwrite']),\n",
        "            np.nditer(self.tensorInput.b, op_flags=['readwrite']),\n",
        "            np.nditer(self.rnnUnfold.W, op_flags=['readwrite']),\n",
        "            np.nditer(self.rnnUnfold.b, op_flags=['readwrite']),\n",
        "            np.nditer(self.tensorOutput.W, op_flags=['readwrite']), \n",
        "            np.nditer(self.tensorOutput.b, op_flags=['readwrite']))"
      ],
      "execution_count": 18,
      "outputs": []
    },
    {
      "cell_type": "markdown",
      "metadata": {
        "id": "XHcQ48Ni9TH0"
      },
      "source": [
        "### Gradient Checking"
      ]
    },
    {
      "cell_type": "code",
      "metadata": {
        "colab": {
          "base_uri": "https://localhost:8080/"
        },
        "id": "N0xb0MIV9Orh",
        "outputId": "42a3b601-0816-4f58-b5d7-c7c09a910ecc"
      },
      "source": [
        "RNN = RnnBinaryAdder(2, 1, 3, sequence_len)\n",
        "backprop_grads = RNN.getParamGrads(\n",
        "    X_train[0:100,:,:], T_train[0:100,:,:])\n",
        "\n",
        "eps = 1e-7 \n",
        "for p_idx, param in enumerate(RNN.get_params_iter()):\n",
        "    grad_backprop = backprop_grads[p_idx]\n",
        "\n",
        "    param += eps\n",
        "    plus_loss = RNN.loss(\n",
        "        RNN.getOutput(X_train[0:100,:,:]), T_train[0:100,:,:])\n",
        "\n",
        "    param -= 2 * eps\n",
        "    min_loss = RNN.loss(\n",
        "        RNN.getOutput(X_train[0:100,:,:]), T_train[0:100,:,:])\n",
        "\n",
        "    param += eps\n",
        "\n",
        "    grad_num = (plus_loss - min_loss) / (2*eps)\n",
        "\n",
        "    if not np.isclose(grad_num, grad_backprop):\n",
        "        raise ValueError((\n",
        "            f'Numerical gradient of {grad_num:.6f} is not close '\n",
        "            f'to the backpropagation gradient of {grad_backprop:.6f}!'\n",
        "        ))\n",
        "print('No gradient errors found')"
      ],
      "execution_count": 19,
      "outputs": [
        {
          "output_type": "stream",
          "text": [
            "No gradient errors found\n"
          ],
          "name": "stdout"
        }
      ]
    },
    {
      "cell_type": "code",
      "metadata": {
        "id": "B7nHqXte-yEj"
      },
      "source": [
        "lmbd = 0.5  # Rmsprop lambda\n",
        "learning_rate = 0.05  # Learning rate\n",
        "momentum_term = 0.80  # Momentum term\n",
        "eps = 1e-6  # Numerical stability term to prevent division by zero\n",
        "mb_size = 100  # Size of the minibatches (number of samples)\n",
        "\n",
        "\n",
        "nb_of_states = 3  # Number of states in the recurrent layer\n",
        "RNN = RnnBinaryAdder(2, 1, nb_of_states, sequence_len)\n",
        "nbParameters =  sum(1 for _ in RNN.get_params_iter())\n",
        "maSquare = [0.0 for _ in range(nbParameters)]\n",
        "Vs = [0.0 for _ in range(nbParameters)]  \n",
        "ls_of_loss = [\n",
        "    RNN.loss(RNN.getOutput(X_train[0:100,:,:]), T_train[0:100,:,:])]\n",
        "\n",
        "for i in range(5):\n",
        "    for mb in range(nb_train // mb_size):\n",
        "        X_mb = X_train[mb:mb+mb_size,:,:] \n",
        "        T_mb = T_train[mb:mb+mb_size,:,:]  \n",
        "        V_tmp = [v * momentum_term for v in Vs]\n",
        "        for pIdx, P in enumerate(RNN.get_params_iter()):\n",
        "            P += V_tmp[pIdx]\n",
        "        backprop_grads = RNN.getParamGrads(X_mb, T_mb)    \n",
        "        for pIdx, P in enumerate(RNN.get_params_iter()):\n",
        "            maSquare[pIdx] = lmbd * maSquare[pIdx] + (\n",
        "                1-lmbd) * backprop_grads[pIdx]**2\n",
        "            pGradNorm = ((\n",
        "                learning_rate * backprop_grads[pIdx]) / np.sqrt(\n",
        "                maSquare[pIdx]) + eps)\n",
        "            Vs[pIdx] = V_tmp[pIdx] - pGradNorm     \n",
        "            P -= pGradNorm  \n",
        "        ls_of_loss.append(RNN.loss(RNN.getOutput(X_mb), T_mb))"
      ],
      "execution_count": 20,
      "outputs": []
    },
    {
      "cell_type": "code",
      "metadata": {
        "colab": {
          "base_uri": "https://localhost:8080/",
          "height": 17
        },
        "id": "1fRb1Kdo94e_",
        "outputId": "b3ac2c69-2a43-4a47-f123-cabd97e0017c"
      },
      "source": [
        "# Plot the loss over the iterations\n",
        "fig = plt.figure(figsize=(5, 3))\n",
        "plt.plot(ls_of_loss, 'b-')\n",
        "plt.xlabel('minibatch iteration')\n",
        "plt.ylabel('$\\\\xi$', fontsize=15)\n",
        "plt.title('Decrease of loss over backprop iteration')\n",
        "plt.xlim(0, 100)\n",
        "fig.subplots_adjust(bottom=0.2)\n",
        "plt.show()"
      ],
      "execution_count": 21,
      "outputs": [
        {
          "output_type": "display_data",
          "data": {
            "application/javascript": [
              "/* Put everything inside the global mpl namespace */\n",
              "window.mpl = {};\n",
              "\n",
              "\n",
              "mpl.get_websocket_type = function() {\n",
              "    if (typeof(WebSocket) !== 'undefined') {\n",
              "        return WebSocket;\n",
              "    } else if (typeof(MozWebSocket) !== 'undefined') {\n",
              "        return MozWebSocket;\n",
              "    } else {\n",
              "        alert('Your browser does not have WebSocket support. ' +\n",
              "              'Please try Chrome, Safari or Firefox ≥ 6. ' +\n",
              "              'Firefox 4 and 5 are also supported but you ' +\n",
              "              'have to enable WebSockets in about:config.');\n",
              "    };\n",
              "}\n",
              "\n",
              "mpl.figure = function(figure_id, websocket, ondownload, parent_element) {\n",
              "    this.id = figure_id;\n",
              "\n",
              "    this.ws = websocket;\n",
              "\n",
              "    this.supports_binary = (this.ws.binaryType != undefined);\n",
              "\n",
              "    if (!this.supports_binary) {\n",
              "        var warnings = document.getElementById(\"mpl-warnings\");\n",
              "        if (warnings) {\n",
              "            warnings.style.display = 'block';\n",
              "            warnings.textContent = (\n",
              "                \"This browser does not support binary websocket messages. \" +\n",
              "                    \"Performance may be slow.\");\n",
              "        }\n",
              "    }\n",
              "\n",
              "    this.imageObj = new Image();\n",
              "\n",
              "    this.context = undefined;\n",
              "    this.message = undefined;\n",
              "    this.canvas = undefined;\n",
              "    this.rubberband_canvas = undefined;\n",
              "    this.rubberband_context = undefined;\n",
              "    this.format_dropdown = undefined;\n",
              "\n",
              "    this.image_mode = 'full';\n",
              "\n",
              "    this.root = $('<div/>');\n",
              "    this._root_extra_style(this.root)\n",
              "    this.root.attr('style', 'display: inline-block');\n",
              "\n",
              "    $(parent_element).append(this.root);\n",
              "\n",
              "    this._init_header(this);\n",
              "    this._init_canvas(this);\n",
              "    this._init_toolbar(this);\n",
              "\n",
              "    var fig = this;\n",
              "\n",
              "    this.waiting = false;\n",
              "\n",
              "    this.ws.onopen =  function () {\n",
              "            fig.send_message(\"supports_binary\", {value: fig.supports_binary});\n",
              "            fig.send_message(\"send_image_mode\", {});\n",
              "            if (mpl.ratio != 1) {\n",
              "                fig.send_message(\"set_dpi_ratio\", {'dpi_ratio': mpl.ratio});\n",
              "            }\n",
              "            fig.send_message(\"refresh\", {});\n",
              "        }\n",
              "\n",
              "    this.imageObj.onload = function() {\n",
              "            if (fig.image_mode == 'full') {\n",
              "                // Full images could contain transparency (where diff images\n",
              "                // almost always do), so we need to clear the canvas so that\n",
              "                // there is no ghosting.\n",
              "                fig.context.clearRect(0, 0, fig.canvas.width, fig.canvas.height);\n",
              "            }\n",
              "            fig.context.drawImage(fig.imageObj, 0, 0);\n",
              "        };\n",
              "\n",
              "    this.imageObj.onunload = function() {\n",
              "        fig.ws.close();\n",
              "    }\n",
              "\n",
              "    this.ws.onmessage = this._make_on_message_function(this);\n",
              "\n",
              "    this.ondownload = ondownload;\n",
              "}\n",
              "\n",
              "mpl.figure.prototype._init_header = function() {\n",
              "    var titlebar = $(\n",
              "        '<div class=\"ui-dialog-titlebar ui-widget-header ui-corner-all ' +\n",
              "        'ui-helper-clearfix\"/>');\n",
              "    var titletext = $(\n",
              "        '<div class=\"ui-dialog-title\" style=\"width: 100%; ' +\n",
              "        'text-align: center; padding: 3px;\"/>');\n",
              "    titlebar.append(titletext)\n",
              "    this.root.append(titlebar);\n",
              "    this.header = titletext[0];\n",
              "}\n",
              "\n",
              "\n",
              "\n",
              "mpl.figure.prototype._canvas_extra_style = function(canvas_div) {\n",
              "\n",
              "}\n",
              "\n",
              "\n",
              "mpl.figure.prototype._root_extra_style = function(canvas_div) {\n",
              "\n",
              "}\n",
              "\n",
              "mpl.figure.prototype._init_canvas = function() {\n",
              "    var fig = this;\n",
              "\n",
              "    var canvas_div = $('<div/>');\n",
              "\n",
              "    canvas_div.attr('style', 'position: relative; clear: both; outline: 0');\n",
              "\n",
              "    function canvas_keyboard_event(event) {\n",
              "        return fig.key_event(event, event['data']);\n",
              "    }\n",
              "\n",
              "    canvas_div.keydown('key_press', canvas_keyboard_event);\n",
              "    canvas_div.keyup('key_release', canvas_keyboard_event);\n",
              "    this.canvas_div = canvas_div\n",
              "    this._canvas_extra_style(canvas_div)\n",
              "    this.root.append(canvas_div);\n",
              "\n",
              "    var canvas = $('<canvas/>');\n",
              "    canvas.addClass('mpl-canvas');\n",
              "    canvas.attr('style', \"left: 0; top: 0; z-index: 0; outline: 0\")\n",
              "\n",
              "    this.canvas = canvas[0];\n",
              "    this.context = canvas[0].getContext(\"2d\");\n",
              "\n",
              "    var backingStore = this.context.backingStorePixelRatio ||\n",
              "\tthis.context.webkitBackingStorePixelRatio ||\n",
              "\tthis.context.mozBackingStorePixelRatio ||\n",
              "\tthis.context.msBackingStorePixelRatio ||\n",
              "\tthis.context.oBackingStorePixelRatio ||\n",
              "\tthis.context.backingStorePixelRatio || 1;\n",
              "\n",
              "    mpl.ratio = (window.devicePixelRatio || 1) / backingStore;\n",
              "\n",
              "    var rubberband = $('<canvas/>');\n",
              "    rubberband.attr('style', \"position: absolute; left: 0; top: 0; z-index: 1;\")\n",
              "\n",
              "    var pass_mouse_events = true;\n",
              "\n",
              "    canvas_div.resizable({\n",
              "        start: function(event, ui) {\n",
              "            pass_mouse_events = false;\n",
              "        },\n",
              "        resize: function(event, ui) {\n",
              "            fig.request_resize(ui.size.width, ui.size.height);\n",
              "        },\n",
              "        stop: function(event, ui) {\n",
              "            pass_mouse_events = true;\n",
              "            fig.request_resize(ui.size.width, ui.size.height);\n",
              "        },\n",
              "    });\n",
              "\n",
              "    function mouse_event_fn(event) {\n",
              "        if (pass_mouse_events)\n",
              "            return fig.mouse_event(event, event['data']);\n",
              "    }\n",
              "\n",
              "    rubberband.mousedown('button_press', mouse_event_fn);\n",
              "    rubberband.mouseup('button_release', mouse_event_fn);\n",
              "    // Throttle sequential mouse events to 1 every 20ms.\n",
              "    rubberband.mousemove('motion_notify', mouse_event_fn);\n",
              "\n",
              "    rubberband.mouseenter('figure_enter', mouse_event_fn);\n",
              "    rubberband.mouseleave('figure_leave', mouse_event_fn);\n",
              "\n",
              "    canvas_div.on(\"wheel\", function (event) {\n",
              "        event = event.originalEvent;\n",
              "        event['data'] = 'scroll'\n",
              "        if (event.deltaY < 0) {\n",
              "            event.step = 1;\n",
              "        } else {\n",
              "            event.step = -1;\n",
              "        }\n",
              "        mouse_event_fn(event);\n",
              "    });\n",
              "\n",
              "    canvas_div.append(canvas);\n",
              "    canvas_div.append(rubberband);\n",
              "\n",
              "    this.rubberband = rubberband;\n",
              "    this.rubberband_canvas = rubberband[0];\n",
              "    this.rubberband_context = rubberband[0].getContext(\"2d\");\n",
              "    this.rubberband_context.strokeStyle = \"#000000\";\n",
              "\n",
              "    this._resize_canvas = function(width, height) {\n",
              "        // Keep the size of the canvas, canvas container, and rubber band\n",
              "        // canvas in synch.\n",
              "        canvas_div.css('width', width)\n",
              "        canvas_div.css('height', height)\n",
              "\n",
              "        canvas.attr('width', width * mpl.ratio);\n",
              "        canvas.attr('height', height * mpl.ratio);\n",
              "        canvas.attr('style', 'width: ' + width + 'px; height: ' + height + 'px;');\n",
              "\n",
              "        rubberband.attr('width', width);\n",
              "        rubberband.attr('height', height);\n",
              "    }\n",
              "\n",
              "    // Set the figure to an initial 600x600px, this will subsequently be updated\n",
              "    // upon first draw.\n",
              "    this._resize_canvas(600, 600);\n",
              "\n",
              "    // Disable right mouse context menu.\n",
              "    $(this.rubberband_canvas).bind(\"contextmenu\",function(e){\n",
              "        return false;\n",
              "    });\n",
              "\n",
              "    function set_focus () {\n",
              "        canvas.focus();\n",
              "        canvas_div.focus();\n",
              "    }\n",
              "\n",
              "    window.setTimeout(set_focus, 100);\n",
              "}\n",
              "\n",
              "mpl.figure.prototype._init_toolbar = function() {\n",
              "    var fig = this;\n",
              "\n",
              "    var nav_element = $('<div/>');\n",
              "    nav_element.attr('style', 'width: 100%');\n",
              "    this.root.append(nav_element);\n",
              "\n",
              "    // Define a callback function for later on.\n",
              "    function toolbar_event(event) {\n",
              "        return fig.toolbar_button_onclick(event['data']);\n",
              "    }\n",
              "    function toolbar_mouse_event(event) {\n",
              "        return fig.toolbar_button_onmouseover(event['data']);\n",
              "    }\n",
              "\n",
              "    for(var toolbar_ind in mpl.toolbar_items) {\n",
              "        var name = mpl.toolbar_items[toolbar_ind][0];\n",
              "        var tooltip = mpl.toolbar_items[toolbar_ind][1];\n",
              "        var image = mpl.toolbar_items[toolbar_ind][2];\n",
              "        var method_name = mpl.toolbar_items[toolbar_ind][3];\n",
              "\n",
              "        if (!name) {\n",
              "            // put a spacer in here.\n",
              "            continue;\n",
              "        }\n",
              "        var button = $('<button/>');\n",
              "        button.addClass('ui-button ui-widget ui-state-default ui-corner-all ' +\n",
              "                        'ui-button-icon-only');\n",
              "        button.attr('role', 'button');\n",
              "        button.attr('aria-disabled', 'false');\n",
              "        button.click(method_name, toolbar_event);\n",
              "        button.mouseover(tooltip, toolbar_mouse_event);\n",
              "\n",
              "        var icon_img = $('<span/>');\n",
              "        icon_img.addClass('ui-button-icon-primary ui-icon');\n",
              "        icon_img.addClass(image);\n",
              "        icon_img.addClass('ui-corner-all');\n",
              "\n",
              "        var tooltip_span = $('<span/>');\n",
              "        tooltip_span.addClass('ui-button-text');\n",
              "        tooltip_span.html(tooltip);\n",
              "\n",
              "        button.append(icon_img);\n",
              "        button.append(tooltip_span);\n",
              "\n",
              "        nav_element.append(button);\n",
              "    }\n",
              "\n",
              "    var fmt_picker_span = $('<span/>');\n",
              "\n",
              "    var fmt_picker = $('<select/>');\n",
              "    fmt_picker.addClass('mpl-toolbar-option ui-widget ui-widget-content');\n",
              "    fmt_picker_span.append(fmt_picker);\n",
              "    nav_element.append(fmt_picker_span);\n",
              "    this.format_dropdown = fmt_picker[0];\n",
              "\n",
              "    for (var ind in mpl.extensions) {\n",
              "        var fmt = mpl.extensions[ind];\n",
              "        var option = $(\n",
              "            '<option/>', {selected: fmt === mpl.default_extension}).html(fmt);\n",
              "        fmt_picker.append(option);\n",
              "    }\n",
              "\n",
              "    // Add hover states to the ui-buttons\n",
              "    $( \".ui-button\" ).hover(\n",
              "        function() { $(this).addClass(\"ui-state-hover\");},\n",
              "        function() { $(this).removeClass(\"ui-state-hover\");}\n",
              "    );\n",
              "\n",
              "    var status_bar = $('<span class=\"mpl-message\"/>');\n",
              "    nav_element.append(status_bar);\n",
              "    this.message = status_bar[0];\n",
              "}\n",
              "\n",
              "mpl.figure.prototype.request_resize = function(x_pixels, y_pixels) {\n",
              "    // Request matplotlib to resize the figure. Matplotlib will then trigger a resize in the client,\n",
              "    // which will in turn request a refresh of the image.\n",
              "    this.send_message('resize', {'width': x_pixels, 'height': y_pixels});\n",
              "}\n",
              "\n",
              "mpl.figure.prototype.send_message = function(type, properties) {\n",
              "    properties['type'] = type;\n",
              "    properties['figure_id'] = this.id;\n",
              "    this.ws.send(JSON.stringify(properties));\n",
              "}\n",
              "\n",
              "mpl.figure.prototype.send_draw_message = function() {\n",
              "    if (!this.waiting) {\n",
              "        this.waiting = true;\n",
              "        this.ws.send(JSON.stringify({type: \"draw\", figure_id: this.id}));\n",
              "    }\n",
              "}\n",
              "\n",
              "\n",
              "mpl.figure.prototype.handle_save = function(fig, msg) {\n",
              "    var format_dropdown = fig.format_dropdown;\n",
              "    var format = format_dropdown.options[format_dropdown.selectedIndex].value;\n",
              "    fig.ondownload(fig, format);\n",
              "}\n",
              "\n",
              "\n",
              "mpl.figure.prototype.handle_resize = function(fig, msg) {\n",
              "    var size = msg['size'];\n",
              "    if (size[0] != fig.canvas.width || size[1] != fig.canvas.height) {\n",
              "        fig._resize_canvas(size[0], size[1]);\n",
              "        fig.send_message(\"refresh\", {});\n",
              "    };\n",
              "}\n",
              "\n",
              "mpl.figure.prototype.handle_rubberband = function(fig, msg) {\n",
              "    var x0 = msg['x0'] / mpl.ratio;\n",
              "    var y0 = (fig.canvas.height - msg['y0']) / mpl.ratio;\n",
              "    var x1 = msg['x1'] / mpl.ratio;\n",
              "    var y1 = (fig.canvas.height - msg['y1']) / mpl.ratio;\n",
              "    x0 = Math.floor(x0) + 0.5;\n",
              "    y0 = Math.floor(y0) + 0.5;\n",
              "    x1 = Math.floor(x1) + 0.5;\n",
              "    y1 = Math.floor(y1) + 0.5;\n",
              "    var min_x = Math.min(x0, x1);\n",
              "    var min_y = Math.min(y0, y1);\n",
              "    var width = Math.abs(x1 - x0);\n",
              "    var height = Math.abs(y1 - y0);\n",
              "\n",
              "    fig.rubberband_context.clearRect(\n",
              "        0, 0, fig.canvas.width / mpl.ratio, fig.canvas.height / mpl.ratio);\n",
              "\n",
              "    fig.rubberband_context.strokeRect(min_x, min_y, width, height);\n",
              "}\n",
              "\n",
              "mpl.figure.prototype.handle_figure_label = function(fig, msg) {\n",
              "    // Updates the figure title.\n",
              "    fig.header.textContent = msg['label'];\n",
              "}\n",
              "\n",
              "mpl.figure.prototype.handle_cursor = function(fig, msg) {\n",
              "    var cursor = msg['cursor'];\n",
              "    switch(cursor)\n",
              "    {\n",
              "    case 0:\n",
              "        cursor = 'pointer';\n",
              "        break;\n",
              "    case 1:\n",
              "        cursor = 'default';\n",
              "        break;\n",
              "    case 2:\n",
              "        cursor = 'crosshair';\n",
              "        break;\n",
              "    case 3:\n",
              "        cursor = 'move';\n",
              "        break;\n",
              "    }\n",
              "    fig.rubberband_canvas.style.cursor = cursor;\n",
              "}\n",
              "\n",
              "mpl.figure.prototype.handle_message = function(fig, msg) {\n",
              "    fig.message.textContent = msg['message'];\n",
              "}\n",
              "\n",
              "mpl.figure.prototype.handle_draw = function(fig, msg) {\n",
              "    // Request the server to send over a new figure.\n",
              "    fig.send_draw_message();\n",
              "}\n",
              "\n",
              "mpl.figure.prototype.handle_image_mode = function(fig, msg) {\n",
              "    fig.image_mode = msg['mode'];\n",
              "}\n",
              "\n",
              "mpl.figure.prototype.updated_canvas_event = function() {\n",
              "    // Called whenever the canvas gets updated.\n",
              "    this.send_message(\"ack\", {});\n",
              "}\n",
              "\n",
              "// A function to construct a web socket function for onmessage handling.\n",
              "// Called in the figure constructor.\n",
              "mpl.figure.prototype._make_on_message_function = function(fig) {\n",
              "    return function socket_on_message(evt) {\n",
              "        if (evt.data instanceof Blob) {\n",
              "            /* FIXME: We get \"Resource interpreted as Image but\n",
              "             * transferred with MIME type text/plain:\" errors on\n",
              "             * Chrome.  But how to set the MIME type?  It doesn't seem\n",
              "             * to be part of the websocket stream */\n",
              "            evt.data.type = \"image/png\";\n",
              "\n",
              "            /* Free the memory for the previous frames */\n",
              "            if (fig.imageObj.src) {\n",
              "                (window.URL || window.webkitURL).revokeObjectURL(\n",
              "                    fig.imageObj.src);\n",
              "            }\n",
              "\n",
              "            fig.imageObj.src = (window.URL || window.webkitURL).createObjectURL(\n",
              "                evt.data);\n",
              "            fig.updated_canvas_event();\n",
              "            fig.waiting = false;\n",
              "            return;\n",
              "        }\n",
              "        else if (typeof evt.data === 'string' && evt.data.slice(0, 21) == \"data:image/png;base64\") {\n",
              "            fig.imageObj.src = evt.data;\n",
              "            fig.updated_canvas_event();\n",
              "            fig.waiting = false;\n",
              "            return;\n",
              "        }\n",
              "\n",
              "        var msg = JSON.parse(evt.data);\n",
              "        var msg_type = msg['type'];\n",
              "\n",
              "        // Call the  \"handle_{type}\" callback, which takes\n",
              "        // the figure and JSON message as its only arguments.\n",
              "        try {\n",
              "            var callback = fig[\"handle_\" + msg_type];\n",
              "        } catch (e) {\n",
              "            console.log(\"No handler for the '\" + msg_type + \"' message type: \", msg);\n",
              "            return;\n",
              "        }\n",
              "\n",
              "        if (callback) {\n",
              "            try {\n",
              "                // console.log(\"Handling '\" + msg_type + \"' message: \", msg);\n",
              "                callback(fig, msg);\n",
              "            } catch (e) {\n",
              "                console.log(\"Exception inside the 'handler_\" + msg_type + \"' callback:\", e, e.stack, msg);\n",
              "            }\n",
              "        }\n",
              "    };\n",
              "}\n",
              "\n",
              "// from http://stackoverflow.com/questions/1114465/getting-mouse-location-in-canvas\n",
              "mpl.findpos = function(e) {\n",
              "    //this section is from http://www.quirksmode.org/js/events_properties.html\n",
              "    var targ;\n",
              "    if (!e)\n",
              "        e = window.event;\n",
              "    if (e.target)\n",
              "        targ = e.target;\n",
              "    else if (e.srcElement)\n",
              "        targ = e.srcElement;\n",
              "    if (targ.nodeType == 3) // defeat Safari bug\n",
              "        targ = targ.parentNode;\n",
              "\n",
              "    // jQuery normalizes the pageX and pageY\n",
              "    // pageX,Y are the mouse positions relative to the document\n",
              "    // offset() returns the position of the element relative to the document\n",
              "    var x = e.pageX - $(targ).offset().left;\n",
              "    var y = e.pageY - $(targ).offset().top;\n",
              "\n",
              "    return {\"x\": x, \"y\": y};\n",
              "};\n",
              "\n",
              "/*\n",
              " * return a copy of an object with only non-object keys\n",
              " * we need this to avoid circular references\n",
              " * http://stackoverflow.com/a/24161582/3208463\n",
              " */\n",
              "function simpleKeys (original) {\n",
              "  return Object.keys(original).reduce(function (obj, key) {\n",
              "    if (typeof original[key] !== 'object')\n",
              "        obj[key] = original[key]\n",
              "    return obj;\n",
              "  }, {});\n",
              "}\n",
              "\n",
              "mpl.figure.prototype.mouse_event = function(event, name) {\n",
              "    var canvas_pos = mpl.findpos(event)\n",
              "\n",
              "    if (name === 'button_press')\n",
              "    {\n",
              "        this.canvas.focus();\n",
              "        this.canvas_div.focus();\n",
              "    }\n",
              "\n",
              "    var x = canvas_pos.x * mpl.ratio;\n",
              "    var y = canvas_pos.y * mpl.ratio;\n",
              "\n",
              "    this.send_message(name, {x: x, y: y, button: event.button,\n",
              "                             step: event.step,\n",
              "                             guiEvent: simpleKeys(event)});\n",
              "\n",
              "    /* This prevents the web browser from automatically changing to\n",
              "     * the text insertion cursor when the button is pressed.  We want\n",
              "     * to control all of the cursor setting manually through the\n",
              "     * 'cursor' event from matplotlib */\n",
              "    event.preventDefault();\n",
              "    return false;\n",
              "}\n",
              "\n",
              "mpl.figure.prototype._key_event_extra = function(event, name) {\n",
              "    // Handle any extra behaviour associated with a key event\n",
              "}\n",
              "\n",
              "mpl.figure.prototype.key_event = function(event, name) {\n",
              "\n",
              "    // Prevent repeat events\n",
              "    if (name == 'key_press')\n",
              "    {\n",
              "        if (event.which === this._key)\n",
              "            return;\n",
              "        else\n",
              "            this._key = event.which;\n",
              "    }\n",
              "    if (name == 'key_release')\n",
              "        this._key = null;\n",
              "\n",
              "    var value = '';\n",
              "    if (event.ctrlKey && event.which != 17)\n",
              "        value += \"ctrl+\";\n",
              "    if (event.altKey && event.which != 18)\n",
              "        value += \"alt+\";\n",
              "    if (event.shiftKey && event.which != 16)\n",
              "        value += \"shift+\";\n",
              "\n",
              "    value += 'k';\n",
              "    value += event.which.toString();\n",
              "\n",
              "    this._key_event_extra(event, name);\n",
              "\n",
              "    this.send_message(name, {key: value,\n",
              "                             guiEvent: simpleKeys(event)});\n",
              "    return false;\n",
              "}\n",
              "\n",
              "mpl.figure.prototype.toolbar_button_onclick = function(name) {\n",
              "    if (name == 'download') {\n",
              "        this.handle_save(this, null);\n",
              "    } else {\n",
              "        this.send_message(\"toolbar_button\", {name: name});\n",
              "    }\n",
              "};\n",
              "\n",
              "mpl.figure.prototype.toolbar_button_onmouseover = function(tooltip) {\n",
              "    this.message.textContent = tooltip;\n",
              "};\n",
              "mpl.toolbar_items = [[\"Home\", \"Reset original view\", \"fa fa-home icon-home\", \"home\"], [\"Back\", \"Back to previous view\", \"fa fa-arrow-left icon-arrow-left\", \"back\"], [\"Forward\", \"Forward to next view\", \"fa fa-arrow-right icon-arrow-right\", \"forward\"], [\"\", \"\", \"\", \"\"], [\"Pan\", \"Pan axes with left mouse, zoom with right\", \"fa fa-arrows icon-move\", \"pan\"], [\"Zoom\", \"Zoom to rectangle\", \"fa fa-square-o icon-check-empty\", \"zoom\"], [\"\", \"\", \"\", \"\"], [\"Download\", \"Download plot\", \"fa fa-floppy-o icon-save\", \"download\"]];\n",
              "\n",
              "mpl.extensions = [\"eps\", \"jpeg\", \"pdf\", \"png\", \"ps\", \"raw\", \"svg\", \"tif\"];\n",
              "\n",
              "mpl.default_extension = \"png\";var comm_websocket_adapter = function(comm) {\n",
              "    // Create a \"websocket\"-like object which calls the given IPython comm\n",
              "    // object with the appropriate methods. Currently this is a non binary\n",
              "    // socket, so there is still some room for performance tuning.\n",
              "    var ws = {};\n",
              "\n",
              "    ws.close = function() {\n",
              "        comm.close()\n",
              "    };\n",
              "    ws.send = function(m) {\n",
              "        //console.log('sending', m);\n",
              "        comm.send(m);\n",
              "    };\n",
              "    // Register the callback with on_msg.\n",
              "    comm.on_msg(function(msg) {\n",
              "        //console.log('receiving', msg['content']['data'], msg);\n",
              "        // Pass the mpl event to the overridden (by mpl) onmessage function.\n",
              "        ws.onmessage(msg['content']['data'])\n",
              "    });\n",
              "    return ws;\n",
              "}\n",
              "\n",
              "mpl.mpl_figure_comm = function(comm, msg) {\n",
              "    // This is the function which gets called when the mpl process\n",
              "    // starts-up an IPython Comm through the \"matplotlib\" channel.\n",
              "\n",
              "    var id = msg.content.data.id;\n",
              "    // Get hold of the div created by the display call when the Comm\n",
              "    // socket was opened in Python.\n",
              "    var element = $(\"#\" + id);\n",
              "    var ws_proxy = comm_websocket_adapter(comm)\n",
              "\n",
              "    function ondownload(figure, format) {\n",
              "        window.open(figure.imageObj.src);\n",
              "    }\n",
              "\n",
              "    var fig = new mpl.figure(id, ws_proxy,\n",
              "                           ondownload,\n",
              "                           element.get(0));\n",
              "\n",
              "    // Call onopen now - mpl needs it, as it is assuming we've passed it a real\n",
              "    // web socket which is closed, not our websocket->open comm proxy.\n",
              "    ws_proxy.onopen();\n",
              "\n",
              "    fig.parent_element = element.get(0);\n",
              "    fig.cell_info = mpl.find_output_cell(\"<div id='\" + id + \"'></div>\");\n",
              "    if (!fig.cell_info) {\n",
              "        console.error(\"Failed to find cell for figure\", id, fig);\n",
              "        return;\n",
              "    }\n",
              "\n",
              "    var output_index = fig.cell_info[2]\n",
              "    var cell = fig.cell_info[0];\n",
              "\n",
              "};\n",
              "\n",
              "mpl.figure.prototype.handle_close = function(fig, msg) {\n",
              "    var width = fig.canvas.width/mpl.ratio\n",
              "    fig.root.unbind('remove')\n",
              "\n",
              "    // Update the output cell to use the data from the current canvas.\n",
              "    fig.push_to_output();\n",
              "    var dataURL = fig.canvas.toDataURL();\n",
              "    // Re-enable the keyboard manager in IPython - without this line, in FF,\n",
              "    // the notebook keyboard shortcuts fail.\n",
              "    IPython.keyboard_manager.enable()\n",
              "    $(fig.parent_element).html('<img src=\"' + dataURL + '\" width=\"' + width + '\">');\n",
              "    fig.close_ws(fig, msg);\n",
              "}\n",
              "\n",
              "mpl.figure.prototype.close_ws = function(fig, msg){\n",
              "    fig.send_message('closing', msg);\n",
              "    // fig.ws.close()\n",
              "}\n",
              "\n",
              "mpl.figure.prototype.push_to_output = function(remove_interactive) {\n",
              "    // Turn the data on the canvas into data in the output cell.\n",
              "    var width = this.canvas.width/mpl.ratio\n",
              "    var dataURL = this.canvas.toDataURL();\n",
              "    this.cell_info[1]['text/html'] = '<img src=\"' + dataURL + '\" width=\"' + width + '\">';\n",
              "}\n",
              "\n",
              "mpl.figure.prototype.updated_canvas_event = function() {\n",
              "    // Tell IPython that the notebook contents must change.\n",
              "    IPython.notebook.set_dirty(true);\n",
              "    this.send_message(\"ack\", {});\n",
              "    var fig = this;\n",
              "    // Wait a second, then push the new image to the DOM so\n",
              "    // that it is saved nicely (might be nice to debounce this).\n",
              "    setTimeout(function () { fig.push_to_output() }, 1000);\n",
              "}\n",
              "\n",
              "mpl.figure.prototype._init_toolbar = function() {\n",
              "    var fig = this;\n",
              "\n",
              "    var nav_element = $('<div/>');\n",
              "    nav_element.attr('style', 'width: 100%');\n",
              "    this.root.append(nav_element);\n",
              "\n",
              "    // Define a callback function for later on.\n",
              "    function toolbar_event(event) {\n",
              "        return fig.toolbar_button_onclick(event['data']);\n",
              "    }\n",
              "    function toolbar_mouse_event(event) {\n",
              "        return fig.toolbar_button_onmouseover(event['data']);\n",
              "    }\n",
              "\n",
              "    for(var toolbar_ind in mpl.toolbar_items){\n",
              "        var name = mpl.toolbar_items[toolbar_ind][0];\n",
              "        var tooltip = mpl.toolbar_items[toolbar_ind][1];\n",
              "        var image = mpl.toolbar_items[toolbar_ind][2];\n",
              "        var method_name = mpl.toolbar_items[toolbar_ind][3];\n",
              "\n",
              "        if (!name) { continue; };\n",
              "\n",
              "        var button = $('<button class=\"btn btn-default\" href=\"#\" title=\"' + name + '\"><i class=\"fa ' + image + ' fa-lg\"></i></button>');\n",
              "        button.click(method_name, toolbar_event);\n",
              "        button.mouseover(tooltip, toolbar_mouse_event);\n",
              "        nav_element.append(button);\n",
              "    }\n",
              "\n",
              "    // Add the status bar.\n",
              "    var status_bar = $('<span class=\"mpl-message\" style=\"text-align:right; float: right;\"/>');\n",
              "    nav_element.append(status_bar);\n",
              "    this.message = status_bar[0];\n",
              "\n",
              "    // Add the close button to the window.\n",
              "    var buttongrp = $('<div class=\"btn-group inline pull-right\"></div>');\n",
              "    var button = $('<button class=\"btn btn-mini btn-primary\" href=\"#\" title=\"Stop Interaction\"><i class=\"fa fa-power-off icon-remove icon-large\"></i></button>');\n",
              "    button.click(function (evt) { fig.handle_close(fig, {}); } );\n",
              "    button.mouseover('Stop Interaction', toolbar_mouse_event);\n",
              "    buttongrp.append(button);\n",
              "    var titlebar = this.root.find($('.ui-dialog-titlebar'));\n",
              "    titlebar.prepend(buttongrp);\n",
              "}\n",
              "\n",
              "mpl.figure.prototype._root_extra_style = function(el){\n",
              "    var fig = this\n",
              "    el.on(\"remove\", function(){\n",
              "\tfig.close_ws(fig, {});\n",
              "    });\n",
              "}\n",
              "\n",
              "mpl.figure.prototype._canvas_extra_style = function(el){\n",
              "    // this is important to make the div 'focusable\n",
              "    el.attr('tabindex', 0)\n",
              "    // reach out to IPython and tell the keyboard manager to turn it's self\n",
              "    // off when our div gets focus\n",
              "\n",
              "    // location in version 3\n",
              "    if (IPython.notebook.keyboard_manager) {\n",
              "        IPython.notebook.keyboard_manager.register_events(el);\n",
              "    }\n",
              "    else {\n",
              "        // location in version 2\n",
              "        IPython.keyboard_manager.register_events(el);\n",
              "    }\n",
              "\n",
              "}\n",
              "\n",
              "mpl.figure.prototype._key_event_extra = function(event, name) {\n",
              "    var manager = IPython.notebook.keyboard_manager;\n",
              "    if (!manager)\n",
              "        manager = IPython.keyboard_manager;\n",
              "\n",
              "    // Check for shift+enter\n",
              "    if (event.shiftKey && event.which == 13) {\n",
              "        this.canvas_div.blur();\n",
              "        // select the cell after this one\n",
              "        var index = IPython.notebook.find_cell_index(this.cell_info[0]);\n",
              "        IPython.notebook.select(index + 1);\n",
              "    }\n",
              "}\n",
              "\n",
              "mpl.figure.prototype.handle_save = function(fig, msg) {\n",
              "    fig.ondownload(fig, null);\n",
              "}\n",
              "\n",
              "\n",
              "mpl.find_output_cell = function(html_output) {\n",
              "    // Return the cell and output element which can be found *uniquely* in the notebook.\n",
              "    // Note - this is a bit hacky, but it is done because the \"notebook_saving.Notebook\"\n",
              "    // IPython event is triggered only after the cells have been serialised, which for\n",
              "    // our purposes (turning an active figure into a static one), is too late.\n",
              "    var cells = IPython.notebook.get_cells();\n",
              "    var ncells = cells.length;\n",
              "    for (var i=0; i<ncells; i++) {\n",
              "        var cell = cells[i];\n",
              "        if (cell.cell_type === 'code'){\n",
              "            for (var j=0; j<cell.output_area.outputs.length; j++) {\n",
              "                var data = cell.output_area.outputs[j];\n",
              "                if (data.data) {\n",
              "                    // IPython >= 3 moved mimebundle to data attribute of output\n",
              "                    data = data.data;\n",
              "                }\n",
              "                if (data['text/html'] == html_output) {\n",
              "                    return [cell, data, j];\n",
              "                }\n",
              "            }\n",
              "        }\n",
              "    }\n",
              "}\n",
              "\n",
              "// Register the function which deals with the matplotlib target/channel.\n",
              "// The kernel may be null if the page has been refreshed.\n",
              "if (IPython.notebook.kernel != null) {\n",
              "    IPython.notebook.kernel.comm_manager.register_target('matplotlib', mpl.mpl_figure_comm);\n",
              "}\n"
            ],
            "text/plain": [
              "<IPython.core.display.Javascript object>"
            ]
          },
          "metadata": {
            "tags": []
          }
        },
        {
          "output_type": "display_data",
          "data": {
            "text/html": [
              "<div id='edaeb10b-c22d-4252-835a-5553611c83a0'></div>"
            ],
            "text/plain": [
              "<IPython.core.display.HTML object>"
            ]
          },
          "metadata": {
            "tags": []
          }
        }
      ]
    },
    {
      "cell_type": "markdown",
      "metadata": {
        "id": "al8713Kk9mIS"
      },
      "source": [
        "### Test"
      ]
    },
    {
      "cell_type": "code",
      "metadata": {
        "colab": {
          "base_uri": "https://localhost:8080/"
        },
        "id": "Qs7-ICWb9dhW",
        "outputId": "71f2f1e3-0a60-48b5-8dfa-6c3fed4e8a9f"
      },
      "source": [
        "nb_test = 5\n",
        "Xtest, Ttest = create_dataset(nb_test, sequence_len)\n",
        "\n",
        "Y = RNN.getBinaryOutput(Xtest)\n",
        "Yf = RNN.getOutput(Xtest)\n",
        "\n",
        "for i in range(Xtest.shape[0]):\n",
        "    printSample(Xtest[i,:,0], Xtest[i,:,1], Ttest[i,:,:], Y[i,:,:])\n",
        "    print('')"
      ],
      "execution_count": 22,
      "outputs": [
        {
          "output_type": "stream",
          "text": [
            "x1:   0100010   34\n",
            "x2: + 1100100   19\n",
            "      -------   --\n",
            "t:  = 1010110   53\n",
            "y:  = 1010110\n",
            "\n",
            "x1:   1010100   21\n",
            "x2: + 1110100   23\n",
            "      -------   --\n",
            "t:  = 0011010   44\n",
            "y:  = 0011010\n",
            "\n",
            "x1:   1111010   47\n",
            "x2: + 0000000    0\n",
            "      -------   --\n",
            "t:  = 1111010   47\n",
            "y:  = 1111010\n",
            "\n",
            "x1:   1000000    1\n",
            "x2: + 1111110   63\n",
            "      -------   --\n",
            "t:  = 0000001   64\n",
            "y:  = 0000001\n",
            "\n",
            "x1:   1010100   21\n",
            "x2: + 1010100   21\n",
            "      -------   --\n",
            "t:  = 0101010   42\n",
            "y:  = 0101010\n",
            "\n"
          ],
          "name": "stdout"
        }
      ]
    },
    {
      "cell_type": "code",
      "metadata": {
        "id": "ef-hvidU-ueJ"
      },
      "source": [
        ""
      ],
      "execution_count": 22,
      "outputs": []
    },
    {
      "cell_type": "markdown",
      "metadata": {
        "id": "N_2iTkNDHOsT"
      },
      "source": [
        "#***Second Section"
      ]
    },
    {
      "cell_type": "markdown",
      "metadata": {
        "id": "v8x62P0rei7g"
      },
      "source": [
        "##Importing Libraries"
      ]
    },
    {
      "cell_type": "code",
      "metadata": {
        "colab": {
          "base_uri": "https://localhost:8080/"
        },
        "id": "5mf8LZk6JisK",
        "outputId": "7a23b502-1a11-41c5-b668-3e9ae366472b"
      },
      "source": [
        "pip install nltk"
      ],
      "execution_count": 23,
      "outputs": [
        {
          "output_type": "stream",
          "text": [
            "Requirement already satisfied: nltk in /usr/local/lib/python3.7/dist-packages (3.2.5)\n",
            "Requirement already satisfied: six in /usr/local/lib/python3.7/dist-packages (from nltk) (1.15.0)\n"
          ],
          "name": "stdout"
        }
      ]
    },
    {
      "cell_type": "code",
      "metadata": {
        "colab": {
          "base_uri": "https://localhost:8080/"
        },
        "id": "71lpxI_MJlic",
        "outputId": "0afb40f7-798a-4930-f372-ad76680d6d01"
      },
      "source": [
        "pip install markovify"
      ],
      "execution_count": 24,
      "outputs": [
        {
          "output_type": "stream",
          "text": [
            "Requirement already satisfied: markovify in /usr/local/lib/python3.7/dist-packages (0.9.0)\n",
            "Requirement already satisfied: unidecode in /usr/local/lib/python3.7/dist-packages (from markovify) (1.2.0)\n"
          ],
          "name": "stdout"
        }
      ]
    },
    {
      "cell_type": "code",
      "metadata": {
        "colab": {
          "base_uri": "https://localhost:8080/"
        },
        "id": "viGFdEcndkVW",
        "outputId": "d0b79e77-3d01-4e20-fb2b-ed33bec0d508"
      },
      "source": [
        "import re\n",
        "import nltk\n",
        "import random\n",
        "import markovify\n",
        "import numpy as np\n",
        "import tensorflow as tf\n",
        "import keras.utils as ku\n",
        "from nltk import corpus\n",
        "from keras.utils import np_utils\n",
        "from nltk.corpus import stopwords\n",
        "from keras.layers import Embedding\n",
        "from nltk.tokenize import word_tokenize\n",
        "from keras.layers import Dropout, Flatten\n",
        "from keras.callbacks import LambdaCallback\n",
        "from tensorflow.keras.models import Sequential\n",
        "from keras.preprocessing.text import Tokenizer\n",
        "from tensorflow.keras.optimizers import RMSprop\n",
        "from keras.preprocessing.sequence import pad_sequences\n",
        "from tensorflow.keras.layers import Activation, Dense, LSTM\n",
        "nltk.download('punkt')\n",
        "nltk.download('stopwords')"
      ],
      "execution_count": 25,
      "outputs": [
        {
          "output_type": "stream",
          "text": [
            "[nltk_data] Downloading package punkt to /root/nltk_data...\n",
            "[nltk_data]   Package punkt is already up-to-date!\n",
            "[nltk_data] Downloading package stopwords to /root/nltk_data...\n",
            "[nltk_data]   Package stopwords is already up-to-date!\n"
          ],
          "name": "stdout"
        },
        {
          "output_type": "execute_result",
          "data": {
            "text/plain": [
              "True"
            ]
          },
          "metadata": {
            "tags": []
          },
          "execution_count": 25
        }
      ]
    },
    {
      "cell_type": "markdown",
      "metadata": {
        "id": "o3XCSZ6IfF1_"
      },
      "source": [
        "##1)Markov chain text generation"
      ]
    },
    {
      "cell_type": "code",
      "metadata": {
        "id": "X-6CuGgCfgTv"
      },
      "source": [
        "empty_list = []\n",
        "stop_words = 'و در به از كه مي اين است را با هاي براي آن يك شود شده خود ها كرد شد اي تا كند بر بود گفت نيز وي هم كنند دارد ما كرده يا اما بايد دو اند هر خواهد او مورد آنها باشد ديگر مردم نمي بين پيش پس اگر همه صورت يكي هستند بي من دهد هزار نيست استفاده داد داشته راه داشت چه همچنين كردند داده بوده دارند همين ميليون سوي شوند بيشتر بسيار روي گرفته هايي تواند اول نام هيچ چند جديد بيش شدن كردن كنيم نشان حتي اينكه ولی توسط چنين برخي نه ديروز دوم درباره بعد مختلف گيرد شما گفته آنان بار طور گرفت دهند گذاري بسياري طي بودند ميليارد بدون تمام كل تر براساس شدند ترين امروز باشند ندارد چون قابل گويد ديگري همان خواهند قبل آمده اكنون تحت طريق گيري جاي هنوز چرا البته كنيد سازي سوم كنم بلكه زير توانند ضمن فقط بودن حق آيد وقتي اش يابد نخستين مقابل خدمات امسال تاكنون مانند تازه آورد فكر آنچه نخست نشده شايد چهار جريان پنج ساخته زيرا نزديك برداري كسي ريزي رفت گردد مثل آمد ام بهترين دانست كمتر دادن تمامي جلوگيري بيشتري ايم ناشي چيزي آنكه بالا بنابراين ايشان بعضي دادند داشتند برخوردار نخواهد هنگام نبايد غير نبود ديده وگو داريم چگونه بندي خواست فوق ده نوعي هستيم ديگران همچنان سراسر ندارند گروهي سعي روزهاي آنجا يكديگر كردم بيست بروز سپس رفته آورده نمايد باشيم گويند زياد خويش همواره گذاشته شش نداشته شناسي خواهيم آباد داشتن نظير همچون باره نكرده شان سابق هفت دانند جايي بی جز زیرِ رویِ سریِ تویِ جلویِ پیشِ عقبِ بالایِ خارجِ وسطِ بیرونِ سویِ کنارِ پاعینِ نزدِ نزدیکِ دنبالِ حدودِ برابرِ طبقِ مانندِ ضدِّ هنگامِ برایِ مثلِ بارة اثرِ تولِ علّتِ سمتِ عنوانِ قصدِ روب جدا کی که چیست هست کجا کجاست کَی چطور کدام آیا مگر چندین یک چیزی دیگر کسی بعری هیچ چیز جا کس هرگز یا تنها بلکه خیاه بله بلی آره آری مرسی البتّه لطفاً ّه انکه وقتیکه همین پیش مدّتی هنگامی مان تان ۰ ۱ ۲ ۳ ۴ ۵ ۶ ۷ ۸ ۹ … ! '' # ( ) * , - . / : [ ] « » ، ؛ ؟ '\n",
        "with open('/content/poetry.txt', 'r') as fh:\n",
        "    for line in fh:\n",
        "        text_tokens = word_tokenize(line)\n",
        "        tokens_without_sw = [word for word in text_tokens if not word in stop_words]\n",
        "        filtered_sentence = (\" \").join(tokens_without_sw)\n",
        "        filtered_paragraph = ('\\n').join(filtered_sentence)\n",
        "        empty_list.append(filtered_sentence)\n",
        "    #print(empty_list)\n",
        "\n",
        "text = '\\n'.join(empty_list)"
      ],
      "execution_count": 26,
      "outputs": []
    },
    {
      "cell_type": "code",
      "metadata": {
        "id": "nR6nuapSdszx"
      },
      "source": [
        "model = markovify.NewlineText(text)"
      ],
      "execution_count": 27,
      "outputs": []
    },
    {
      "cell_type": "code",
      "metadata": {
        "colab": {
          "base_uri": "https://localhost:8080/"
        },
        "id": "UBXIXL4yeXvU",
        "outputId": "a0dfce4e-6335-420a-f8b9-d578132a54d6"
      },
      "source": [
        "for i in range(5):\n",
        "    print()\n",
        "    for i in range(random.randrange(1, 4)):\n",
        "        print(model.make_short_sentence(30))"
      ],
      "execution_count": 28,
      "outputs": [
        {
          "output_type": "stream",
          "text": [
            "\n",
            "برست ولوله باغ بوستان نیست\n",
            "\n",
            "None\n",
            "دیده دیدار دوست جهانش بهاست\n",
            "بیند دست آغوش مرا\n",
            "\n",
            "None\n",
            "جور کنی جور نیست بنالی جفاست\n",
            "ستمگرا دل سعدی فرونشوید عشق\n",
            "\n",
            "جهل جوانان پنجه کردن جوان\n",
            "\n",
            "کعبه دیدار دوست جهانش بهاست\n"
          ],
          "name": "stdout"
        }
      ]
    },
    {
      "cell_type": "markdown",
      "metadata": {
        "id": "HomSvlAQelwz"
      },
      "source": [
        "###Data Preprocessing"
      ]
    },
    {
      "cell_type": "markdown",
      "metadata": {
        "id": "41Dqham4em90"
      },
      "source": [
        "####Delete StopWords"
      ]
    },
    {
      "cell_type": "code",
      "metadata": {
        "id": "CdytLSYidoQm"
      },
      "source": [
        "empty_list = []\n",
        "stop_words = 'و در به از كه مي اين است را با هاي براي آن يك شود شده خود ها كرد شد اي تا كند بر بود گفت نيز وي هم كنند دارد ما كرده يا اما بايد دو اند هر خواهد او مورد آنها باشد ديگر مردم نمي بين پيش پس اگر همه صورت يكي هستند بي من دهد هزار نيست استفاده داد داشته راه داشت چه همچنين كردند داده بوده دارند همين ميليون سوي شوند بيشتر بسيار روي گرفته هايي تواند اول نام هيچ چند جديد بيش شدن كردن كنيم نشان حتي اينكه ولی توسط چنين برخي نه ديروز دوم درباره بعد مختلف گيرد شما گفته آنان بار طور گرفت دهند گذاري بسياري طي بودند ميليارد بدون تمام كل تر براساس شدند ترين امروز باشند ندارد چون قابل گويد ديگري همان خواهند قبل آمده اكنون تحت طريق گيري جاي هنوز چرا البته كنيد سازي سوم كنم بلكه زير توانند ضمن فقط بودن حق آيد وقتي اش يابد نخستين مقابل خدمات امسال تاكنون مانند تازه آورد فكر آنچه نخست نشده شايد چهار جريان پنج ساخته زيرا نزديك برداري كسي ريزي رفت گردد مثل آمد ام بهترين دانست كمتر دادن تمامي جلوگيري بيشتري ايم ناشي چيزي آنكه بالا بنابراين ايشان بعضي دادند داشتند برخوردار نخواهد هنگام نبايد غير نبود ديده وگو داريم چگونه بندي خواست فوق ده نوعي هستيم ديگران همچنان سراسر ندارند گروهي سعي روزهاي آنجا يكديگر كردم بيست بروز سپس رفته آورده نمايد باشيم گويند زياد خويش همواره گذاشته شش نداشته شناسي خواهيم آباد داشتن نظير همچون باره نكرده شان سابق هفت دانند جايي بی جز زیرِ رویِ سریِ تویِ جلویِ پیشِ عقبِ بالایِ خارجِ وسطِ بیرونِ سویِ کنارِ پاعینِ نزدِ نزدیکِ دنبالِ حدودِ برابرِ طبقِ مانندِ ضدِّ هنگامِ برایِ مثلِ بارة اثرِ تولِ علّتِ سمتِ عنوانِ قصدِ روب جدا کی که چیست هست کجا کجاست کَی چطور کدام آیا مگر چندین یک چیزی دیگر کسی بعری هیچ چیز جا کس هرگز یا تنها بلکه خیاه بله بلی آره آری مرسی البتّه لطفاً ّه انکه وقتیکه همین پیش مدّتی هنگامی مان تان ۰ ۱ ۲ ۳ ۴ ۵ ۶ ۷ ۸ ۹ … ! '' # ( ) * , - . / : [ ] « » ، ؛ ؟ '\n",
        "with open('/content/poetry.txt', 'r') as fh:\n",
        "    for line in fh:\n",
        "        text_tokens = word_tokenize(line)\n",
        "        tokens_without_sw = [word for word in text_tokens if not word in stop_words]\n",
        "        filtered_sentence = (\" \").join(tokens_without_sw)\n",
        "        filtered_paragraph = ('\\n').join(filtered_sentence)\n",
        "        empty_list.append(filtered_sentence)\n",
        "    #print(empty_list)\n",
        "\n",
        "text = '\\n'.join(empty_list)"
      ],
      "execution_count": 29,
      "outputs": []
    },
    {
      "cell_type": "markdown",
      "metadata": {
        "id": "uSls7Q4req7X"
      },
      "source": [
        "####Delete Extra Space"
      ]
    },
    {
      "cell_type": "code",
      "metadata": {
        "colab": {
          "base_uri": "https://localhost:8080/",
          "height": 103
        },
        "id": "elzjaa0NdrHo",
        "outputId": "c19c7083-224f-4b68-ccc1-909e0f369a2f"
      },
      "source": [
        "re.sub(' +', ' ', text)"
      ],
      "execution_count": 30,
      "outputs": [
        {
          "output_type": "execute_result",
          "data": {
            "application/vnd.google.colaboratory.intrinsic+json": {
              "type": "string"
            },
            "text/plain": [
              "'\\n\\nدفتر ایزد دانا\\nصانع پروردگار حی توانا\\nاکبر اعظم خدای عالم آدم\\nخوب آفرید سیرت زیبا\\nبخشندگی بنده نوازی\\nمرغ هوا نصیب ماهی دریا\\nقسمت می\\u200cخورند منعم درویش\\nروزی می\\u200cبرند پشه عنقا\\nحاجت موری علم غیب بداند\\nچاهی صخره صما\\nجانور نطفه می\\u200cکند شکر نی\\nبرگ\\u200cتر چوب خشک چشمه خارا\\nشربت نوش آفرید مگس نحل\\nنخل تناور کند دانه خرما\\nهمگان بی\\u200cنیاز مشفق\\nعالم نهان پیدا\\nپرتو نور سرادقات جلالش\\nعظمت ماورای فکرت دانا\\nزبان دهان عارف مدهوش\\nحمد ثنا می\\u200cکند موی اعضا\\nنداند سپاس نعمت\\nحیف نصیب رحمت فردا\\nبارخدایا مهیمنی مدبر\\nعیبی مقدسی مبرا\\nنتوانیم حمد گفتن\\nکروبیان عالم\\nسعدی فهم اوست سخن\\nکمال وهم رسد\\n\\nنفس خرم صبا\\nیار آمده\\u200cای مرحبا\\nقافله شب شنیدی صبح\\nمرغ سلیمان خبر سبا\\nخشمست حریف\\nسخنی می\\u200cرود اندر رضا\\nصلح آمده\\u200cای خلاف\\nقدم خوف روم رجا\\nدگر کوی دوست\\nبگذری پیک نسیم صبا\\nرمقی بیش نماند ضعیف\\nکند بی\\u200cجان بقا\\nدلداری پیمان عهد\\nنیک نکردی نکردی وفا\\nلیکن دور وصالی\\nصلح فراموش کند ماجرا\\nگریبان نرسد دست مرگ\\nدست دامن نکنیمت رها\\nدوست نباشد حقیقت\\nدوست فراموش کند بلا\\nخستگی اندر طلبت راحتست\\nدرد کشیدن امید دوا\\nنتوانم برآرم چنگ\\nدفم پوست بدرد قفا\\nسحر عشق دمی می\\u200cزنم\\nدگر می\\u200cشنوم برملا\\nقصه دردم عالم\\nنگیرد نفس آشنا\\nبرسد ناله سعدی کوه\\nکوه بنالد زبان صدا\\n\\nخوش می\\u200cنماید آینه\\nکآینه پاکیزه زیبا\\nروشن آبگینه صافی\\nخوی جمیل جمال پیدا\\nدمی قدمی\\nنباشد شکیبا\\nصید بیابان کمند بپیچد\\nپیچیده کمند عمدا\\nطایر مسکین مهر بست جایی\\nبکشندش نمی\\u200cرود دگر\\nغیرتم آید شکایت\\nدرد احبا نمی\\u200cبرم اطبا\\nبرخی جانت شوم شمع افق\\nبمیرد چراغدان ثریا\\nشکرخنده آستین نفشانی\\nمگسی طوطیی شکرخا\\nلعبت شیرین ترش ننشیند\\nمدعیانش طمع کنند حلوا\\nتماشای باغ حسن سعدیست\\nدست فرومایگان برند یغما\\n\\nفارغی حال دوستان یارا\\nفراغت میسر نمی\\u200cشود\\nآینه دیدن جمال طلعت خویش\\nبیان کند بودست ناشکیبا\\nبیا بهارست\\nدیگران بگذاریم باغ صحرا\\nجای سرو بلند ایستاده جوی\\nنظر نکنی یار سروبالا\\nشمایلی اوصاف حسن ترکیبش\\nمجال نطق نماند زبان گویا\\nزیبا نظر خطا\\nخطا نبینند زیبا\\nدوستی زهر دستت\\nذوق ارادت خورم حلوا\\nملامت وامق کند نادانی\\nحبیب ندیدست عذرا\\nگرفتم آتش پنهان خبر نمی\\u200cداری\\nنگاه می\\u200cنکنی چشم پیدا\\nنگفتمت یغما رود دلت سعدی\\nدل عشق دهی دلبران یغما\\nدردم امید درمانست\\nآخری آخر شبان یلدا\\n\\nشب فراق نخواهم دواج دیبا\\nشب دراز خوابگاه\\nدست رفتن دیوانه عاقلان\\nاحتمال نماندست ناشکیبا\\nگرش ببینی دست ترنج بشناسی\\nروا ملامت کنی زلیخا\\nچنین جوان تویی برقعی فروآویز\\nدل برود پیر پای برجا\\nدرخت گلی کاعتدال قامت\\nببرد قیمت سرو بلندبالا\\nدگر گویی مخالفت نکنم\\nعیش میسر نمی\\u200cشود\\nچشم باز نهاده نشسته\\u200cام شب\\nفرقدین نگه می\\u200cکنم ثریا\\nشبی شمعی جمعی خوش\\nنظر کوری چشم اعدا\\nنالم شریعت عشق\\nمعاف دوست بدارند قتل عمدا\\nدل شهری غمزه\\u200cای ببری\\nبندگان بنی سعد خوان یغما\\nاین روش تویی سعدی\\nجفا جور توانی مکن یارا\\n\\nرسم شکستن عهد وفا\\nالله الله فراموش مکن صحبت\\nقیمت عشق نداند قدم صدق\\nسست عهدی تحمل نکند جفا\\nمخیر بکنندم قیامت خواهی\\nدوست نعمت فردوس\\nسرم می\\u200cرود عهد بازنپیچم\\nبگویند وفا\\nخنک درد یارم عیادت آید\\nدردمندان چنین درد نخواهند دوا\\nباور نباشد آیینه نگه\\nبدانی بودست گرفتار بلا\\nزلف عروسان چمن دست بدارد\\nزلف دست رسد صبا\\nانگشت تحیر بگزد عقل دندان\\nتأمل کند این انگشت\\nآرزو می\\u200cکندم شمع صفت وجودت\\nسراپای بسوزند\\nچشم کوته نظران ورق خوبان\\nخط همی\\u200cبیند عارف قلم صنع خدا\\nدیده رویت نگرانست ولیکن\\nخودپرستان حقیقت نشناسند هوا\\nمهربانی آموز گرم عمر نماند\\nتربت سعدی بطلب مهرگیا\\nهشیار ملامت نکند مستی\\nقل لصاح ترک الناس الوجد سکاری\\n\\nمشتاقی صبوری گذشت یارا\\nشکیب داری طاقت نماند\\nباری چشم احسان حال نظر\\nکز خوان پادشاهان راحت گدا\\nسلطان خشم گیرد بندگان حضرت\\nحکمش رسد ولیکن حدی جفا\\nزندگانی نمی\\u200cپسندم\\nکاسایشی نباشد دوستان بقا\\nتشنه جان سپردم گه سود\\nچشم خاک گیا\\nحال نیازمندی وصف می\\u200cنیاید\\nگه بازگردی گوییم ماجرا\\nبازآ جان شیرین ستان خدمت\\nبرگ درویش بی\\u200cنوا\\nآشنا مهلت سلامت\\nچندان بازبیند دیدار آشنا\\nملک پادشا چشم خوبرویان\\nوقعیست برادر زهد پارسا\\nکاش برفتادی برقع لیلی\\nمدعی نماندی مجنون مبتلا\\nسعدی قلم سختی رفتست نیکبختی\\nپیشت آید گردن بنه قضا\\n\\nاندازه تشنه\\u200cام ساقی بیار\\nمرا سیراب گه بده اصحاب\\nنیز چشم خواب خوش می\\u200cنکردم این\\nفراق دوستان شب خوش بگفتم خواب\\nپارسا کان صنم مسجد بگذرد\\nچشمش ابرو افکند باطل کند محراب\\nصید وحشی نیستم جان خویشتن\\nتیرم می\\u200cزند استاده\\u200cام نشاب\\nمقدار یار همنفس نداند\\nماهی خشک اوفتد قیمت بداند\\nآبی میان دستی پایی می\\u200cزدم\\nاکنون پنداشتم دریای پایاب\\nحالی غرقه\\u200cام کناری اوفتم\\nگه حکایت گویمت درد دل غرقاب\\nبی\\u200cوفایی کردمی یرغو قاآن بردمی\\nکان کافر اعدا می\\u200cکشد وین سنگدل احباب\\nفریاد می\\u200cدارد رقیب دست مشتاقان\\nآواز مطرب زحمت بواب\\nسعدی جورش می\\u200cبری\\nبی\\u200cبصر می\\u200cروم؟ می\\u200cکشد قلاب\\n\\nماه برافکند نقاب\\nبرقع فروهلد جمال آفتاب\\nگویی چشم جادوی عابدفریب\\nچشم سحر ببستند خواب\\nنظر دست برفتم عنان عقل\\nعقل داند صواب\\nگفتم وصل رهایی عشق\\nبی\\u200cحاصل خوردن مستسقی\\nدعوی درست نیست دست نازنین\\nشربت شکر نخوری زهر\\nعشق آدمیت این ذوق نیست\\nهمشرکتی خوردن خفتن دواب\\nآتش بیار خرمن آزادگان بسوز\\nپادشه خراج خراب\\nقوم شراب مست منظور بی\\u200cنصیب\\nمست نخواهم شراب\\nسعدی نگفتمت کمند عشق\\nتیر نظر بیفکند افراسیاب\\n\\nجوانی خوش این پیر تدبیر\\nجهل جوانان پنجه کردن پیر\\nمویی قوت برنیایم عجب\\nیکی افتاده\\u200cام کاو بگسلد زنجیر\\nکمان بازو آرد سروقد سیمتن\\nآرزویم می\\u200cکند کآماج باشم تیر\\nمی\\u200cرود کمند افتد پای خویشتن\\nدست کمان چشم اوفتد نخجیر\\nندیدست آدمیزاد شیرین\\u200cتر سخن\\nشکر پستان مادر خورده\\u200cای شیر\\nبازار جوانی روزی بیش نیست\\nنقد پسر کآفت تأخیر\\nگفتی دیده دیدار رویان بدوز\\nگویی چاره دانم کرد تقدیر\\nزهد پیدا کفر پنهان روزگار\\nپرده برگرفتیم تزویر\\nسعدیا پای جانان خدمت نهی\\nعذرت بباید خواستن تقصیر\\n\\nطرب خوش یافتم دلبر طناز\\nساقی بیار جام مطرب بزن\\nامشب بزم عارفان شمع رویت روشن\\nآهسته خبر رندان شاهدباز\\nدوش پسر خورده\\u200cای چشمت گواهی می\\u200cدهد\\nباری حریفی جو مستور راز\\nخوش آواز خوش لذتی\\nبنگر لذت محبوب خوش آواز\\nچشمان ترک ابروان جان ناوک می\\u200cزنند\\nدادست این کمان ترک تیرانداز\\nشور غم عشقش چنین حیف پنهان\\nگوش نی رمزی بگو برکشد آواز\\nشیراز پرغوغا شدست فتنه چشم خوشت\\nترسم آشوب خوشت برهم زند شیراز\\nمرغکی پربسته\\u200cام زان قفس بنشسته\\u200cام\\nزان بشکستی قفس بنمودمی پرواز\\nسعدی مرغ زیرکی خوبت آورده\\u200cام\\nمشکل دست آرد شهباز\\n\\nدوست می\\u200cدارم این نالیدن دلسوز\\nنوعی بگذرانم\\nشب شب انتظار صبح رویی می\\u200cرود\\nکان صباحت نیست این صبح جهان افروز\\nبازبینم چهر مهرافزای\\nقیامت شکر گویم طالع پیروز\\nسنگ ملامت برپیچم زنم\\nجان سپر کردند مردان ناوک دلدوز\\nکامجویان ناکامی چشیدن چاره نیست\\nزمستان صبر باید طالب نوروز\\nعاقلان خوشه چین لیلی غافلند\\nاین کرامت نیست مجنون خرمن سوز\\nعاشقان دنیاباز خاصیتیست\\nکان نباشد زاهدان مال جاه اندوز\\nدیگری کمند بنده\\u200cایم\\nریسمان پای حاجت نیست دست آموز\\nسعدیا فردا موجود نیست\\nمیان این فرصت شمار\\n\\nبازبینم یار خویش\\nقیامت شکر گویم کردگار خویش\\nیار بارافتاده کاروان بگذاشتند\\nبی\\u200cوفا یاران بربستند خویش\\nبیگانه خاطر نگه خلق\\nدوستان بیازردند یار خویش\\nامید می\\u200cدارم داغ هجر\\nمرهمی دل نهد امیدوار خویش\\nتوست خواهی جنگ خواهی آشتی\\nقلم کشیدیم اختیار خویش\\nخاک غربت پای گل ماند ماند\\nدگر خواب خوش بینی دیار خویش\\nعافیت خواهی نظر منظر خوبان مکن\\nکنی بدرود خواب قرار خویش\\nگبر ترسا مسلمان خویش\\nقبله\\u200cای زیبا نگار خویش\\nخاک پایش خواستم بازگفتم زینهار\\nدامن نمی\\u200cخواهم غبار خویش\\nدوش حورازاده\\u200cای دیدم پنهان رقیب\\nمیان یاوران می\\u200cگفت یار خویش\\nمراد خویش خواهی ترک وصل بگوی\\nمرا خواهی رها اختیار خویش\\nدرد دل پوشیده مانی جگر پرخون\\nدشمن نمایی حال خویش\\nهزارت غم نگویی زینهار\\nبرادر نبینی غمگسار خویش\\nسهی سرو روان آخر نگاهی باز\\nخدمت عرضه دارم افتقار خویش\\nدوستان گویند سعدی دل دادی عشق\\nمیان خلق کم کردی وقار خویش\\nصلاح خویشتن بی\\u200cنوایی دیده\\u200cایم\\nمصلحت بینند کار خویش\\n\\nامشب سبکتر می\\u200cزنند این طبل بی\\u200cهنگام\\nبیداری غلط بودست مرغ بام\\nلحظه این شبی کز عمر تاراج\\nلبی نابرگرفته کام\\nرویم خجل شادمان تنگ دل\\nکز عهده آمدن نتوانم این انعام\\nپای فرقم نهی تشریف قربت می\\u200cدهی\\nنمی\\u200cدانم نهادن عذر این اقدام\\nبخت نیک انجام کلی صلح\\nبگذار جان می\\u200cدهد بدگوی بدفرجام\\nسعدی علم جهان صوفی عامی بدان\\nپرستی می\\u200cکنیم گه چنین اصنام\\n\\nبرخیز نهیم این دلق ازرق فام\\nقلاشی دهیم این شرک تقوا\\nساعت قبله\\u200cای پرستی می\\u200cرود\\nتوحید عرضه بشکنیم اصنام\\nجوانان خوردنم باری تمنا می\\u200cکند\\nکودکان فتند این پیر دردآشام\\nمایه بیچارگی قطمیر می\\u200cشود\\nماخولیای مهتری سگ می\\u200cکند بلعام\\nزین تنگنای خلوتم خاطر صحرا می\\u200cکشد\\nکز بوستان سحر خوش می\\u200cدهد پیغام\\nغافل مباش عاقلی دریاب صاحب دلی\\nنتوان یافتن چنین ایام\\nجایی سرو بوستان پای چوبین می\\u200cچمد\\nنیز رقص آوریم سرو سیم اندام\\nدلبندم پیمان گسل منظور چشم آرام دل\\nنی نی دلارامش مخوان کز دل ببرد آرام\\nدنیا صبر عقل برفت اندر غمش\\nجایی سلطان خیمه غوغا نماند عام\\nباران اشکم می\\u200cرود ابرم آتش می\\u200cجهد\\nپختگان گوی این سخن سوزش نباشد خام\\nسعدی ملامت نشنود جان این می\\u200cرود\\nصوفی جانی ببر ساقی بیاور جام\\n\\nغمت دل بی\\u200cهوش مرا\\nسوز عشقت ننشاند جگر جوش مرا\\nنگذرد یاد گل سنبلم اندر خاطر\\nخاطر زلف بناگوش مرا\\nشربتی تلختر زهر فراقت باید\\nکند لذت وصل فراموش مرا\\nشبم غم هجران بالین\\nروزی دست آغوش مرا\\nدهان قدح نوش\\nدهان زهر آید نوش مرا\\nسعدی اندر کف جلاد غمت می\\u200cگوید\\nبنده\\u200cام بنده کشتن مفروش مرا\\n\\nکند بنده گردن ننهد فرمان\\nکند گوی عاجز نشود چوگان\\nسروبالای کمان ابرو تیر زند\\nعاشق آنست دیده نهد پیکان\\nدست گیر بیچارگی بگذشت\\nپای ریزم جان\\nکاشکی پرده برافتادی منظر حسن\\nخلق ببینند نگارستان\\nدیده اوصاف حیران ماندی\\nدگر عیب نگویند حیران\\nلیکن نقش می\\u200cبینم\\nدیده نباشد ببینند\\nچشم گریان مرا حال بگفتم طبیب\\nببوس خندان\\nگفتم این درد بخواهم مردن\\nمحالست حاصل کنم این درمان\\nپنجه ساعد سیمین عقل افکندم\\nغایت جهل مشت زدن سندان\\nسعدی سرزنش خلق نترسد هیهات\\nغرقه نیل اندیشه کند باران\\nبنه میدان ارادت داری\\nناگزیرست گویی این میدان\\n\\nساقی بده کوزه یاقوت روان\\nیاقوت ارزد بده قوت روان\\nپدر پیر رطل دمادم\\nمدعیان نگویند جوان\\nمست نباشی نبری غم یار\\nمست کشد\\nآرام دل خلق جهانی\\nشاید نبینند جهان\\nمعنی داری\\nحسن تحسین بستست زبان\\nآنک عسل اندوخته مگس نحل\\nشهد شیرین زنبورمیان\\nزین دست دیدار دل می\\u200cبرد دست\\nترسم نبرم عاقبت دست جان\\nتیر هلاکم بزنی دل مجروح\\nجان بدهم بدهی تیر امان\\nگه تیرم زنی خبرم\\nپیشترت بوسه دهم دست کمان\\nسعدی فراق رنج کشیدست\\nکز شادی وصل فرامش کند\\nنیز جراحت دوا باز آید\\nجای جراحت نتوان\\n\\nکمان سخت لطیف بازو\\nتیر غمزه تمامست صید آهو\\nصید دلت تیر بازآید\\nبدین صفت داری کمان ابرو\\nجوشن برگستوان محتاجی\\nمعرکه زره کنی\\nدیار اقالیم ترک بسپارند\\nچشم ترک بینند زلف هندو\\nمغان خدمت می\\u200cکنند فرخار\\nندیده\\u200cاند دلبران\\nحصار قلعه باغی منجنیق\\nبام قصر برافکن کمند گیسو\\nمرا عزلت عنقا گرفتمی عمر\\nاسیر گرفتی باز تیهو\\nبدیدم لعلم بیوفتاد چشم\\nسخن بگفتی قیمت برفت لؤلؤ\\nبهای بازار ماه بشکست\\nمعجز موسی طلسم جادو\\nرنج بردن بیهوده گنج نتوان\\nبخت راست فضیلت زور بازو\\nعشق نکو دل سعدی\\nاحتمال کند خوی زشت نیکو\\n\\nلاابالی کند دفتر دانایی\\nطاقت وعظ نباشد سودایی\\nقول آتش جمع کند\\nنتواند کند عشق شکیبایی\\nدیده فایده دلبر بیند\\nنبیند فایده بینایی\\nعاشقان غم سرزنش دشمن دوست\\nغم دوست غم رسوایی\\nسبزه خط دارم دوست\\nحیوان سبزه صحرایی\\nدل صبر یغما دادم\\nمقید شدم دلبر یغمایی\\nسرو بگذار قدی قیامی\\nببین آمدن رفتن رعنایی\\nبرانی نرود برود باز آید\\nناگزیر مگس دکه حلوایی\\nحدیث حسن نیفزاید\\nسخندانی زیبایی\\nسعدیا نوبتی امشب دهل صبح نکوفت\\nنباشد شب تنهایی\\n\\nتفاوتی نکند قدر پادشایی\\nالتفات کند کمترین گدایی\\nجان دوست دشمن بدین رضا ندهد\\nببندند آشنایی\\nحلال نباشد بندگان ملوک\\nخیل خانه برانند بی\\u200cنوایی\\nجور کنی دگر نشود\\nشکر بگوییم جفایی\\nسلامت نفس آرزو کند\\nخلاف جان می\\u200cخرم بلایی\\nحدیث عشق نداند عمر\\nنکوفته سرایی\\nخیال عالم برفت بازآمد\\nحضور خوشتر ندید جایی\\nصحبت بیچارگان فرود\\nقدر ببوسند خاک پایی\\nقبای خوشتر این بدن\\nبدن نیفتد این خوبتر قبایی\\nنپوشی بدین لطافت حسن\\nدگر نبینی پارس پارسایی\\nمنه جان فراق دل ریش\\nپشه\\u200cای نبرد سنگ آسیایی\\nدگر دست نیاید وفاداری\\nترک می\\u200cندهم عهد بی\\u200cوفایی\\nدعای سعدی بشنوی زیان نکنی\\nیحتمل اجابت دعایی\\n\\nبدین خوبی زیبایی ندیدم\\nوین دلاویزی دلبندی نباشد موی\\nپنهان کند سنگین دل سیمین بدن\\nمشک غمازست نتواند نهفتن بوی\\nموافق معنی چشم\\nزیباتر ندیدم خوشتر خوی\\nمی\\u200cگردم بیچارگی عیبم مکن\\nچوگان می\\u200cزنی جرمی نباشد گوی\\nدمی بودست دردی سوخته\\u200cست\\nدوست ناله مستان هایاهوی\\nملامت جان جوییم بازار عشق\\nکنج خلوت پارسایان سلامت جوی\\nبوستان نمی\\u200cباید حسن\\nسروی می\\u200cباید جوی\\nگل خوش بوی قرن بازآید بهار\\nنبینی بلبل خوشگوی\\nسعدیا بوسه دستش نمی\\u200cیاری نهاد\\nچاره دانم پایش بمالی\\n\\nرفتیم ملول شدی نشست\\nفرمای خدمتی برآید دست\\nبرخاستیم نقش نفس چنانک\\nنباشد نشست\\nخودی درافکن پنجه می\\u200cکنی\\nشکسته\\u200cایم شکست\\nجرمی نکرده\\u200cام عقوبت کند ولیک\\nشرع می\\u200cنکشد ترک مست\\nشکر خدای وفا نکرد\\nتوبه\\u200cای بکند پرست\\nسعدی نگفتمت سرو بلند\\nمشکل رسید پست\\n\\nدل سودایی می\\u200cرفت بستان\\u200cها\\nخویشتنم کردی بوی گل ریحان\\u200cها\\nگه نعره بلبل گه جامه دریدی گل\\nیاد افتادم یاد برفت آن\\u200cها\\nمهر دل\\u200cها مهر لب\\u200cها\\nشور سرها جان\\u200cها\\nعهد دربستم عهد بشکستم\\nروا نقض پیمان\\u200cها\\nغم عشقت آویخته دامن\\nکوته نظری رفتن گلستان\\u200cها\\nچنین دردی پای دراندازد\\nباید فروشوید دست درمان\\u200cها\\nطلبت رنجی برسد شاید\\nعشق حرم سهل بیابان\\u200cها\\nتیر کیش دل ریش آید\\nنیز یکی باشیم جمله قربان\\u200cها\\nکاو نظری یار کمان ابرو\\nباید سپر پیکان\\u200cها\\nگویند مگو سعدی سخن عشقش\\nمی\\u200cگویم گویند دوران\\u200cها\\n\\nبرفکنی میان شهر نقاب\\nمؤمن مخلص درافکنی عقاب\\nمجال نظر جمال میمونت\\nبدین صفت دل می\\u200cبری ورای حجاب\\nدرون نمی\\u200cشود خالی\\nکنون شهر گرفتی روا مدار خراب\\nموی تافته پای دلم فروبستی\\nموی تافتی نیکبخت متاب\\nحکایت مختصر گوش آید\\nحال تشنه نمی\\u200cدانی گل سیراب\\nچراغ بمیرد صبا غم\\nبریزد کتان غم مهتاب\\nدعات گفتم دشنام دهی سهل\\nشکردهنان خوش سؤال جواب\\nکجایی تعنت کنی طعنه زنی\\nکناری اوفتاده غرقاب\\nاسیر بلا جای سرزنش\\nگرت معاونتی دست می\\u200cدهد دریاب\\nصبر دوست ممکن نیست\\nهمی\\u200cکنم ضرورت صبر ماهی\\nباز دعوی پرهیز می\\u200cکنی سعدی\\nدل ندهم کل مدع کذاب\\n\\nشب نمی\\u200cبرد خواب\\nخفته روزگار دریاب\\nبادیه تشنگان بمردند\\nحله کوفه می\\u200cرود\\nسخت کمان سست پیمان\\nاین وفای عهد اصحاب\\nپهلوانم\\nخوابگاه سنجاب\\nدیده عاشقان رویت\\nمجاوران محراب\\nقضای عشق دادم\\nپیرانه آمدم کتاب\\nزهر کف دست نازنینان\\nحلق رود جلاب\\nدیوانه کوی خوبرویان\\nدردش نکند جفای بواب\\nسعدی نتوان کشتن\\nفراق احباب\\n\\nماهرویا خوب متاب\\nخطا کشتن می\\u200cبینی صواب\\nدوش خوابم آغوش آمدی\\nوین نپندارم بینم خواب\\nدرون سوزناک چشم\\nنیمه\\u200cای آتشم نیمی\\nبازآید پندارم اوست\\nتشنه مسکین پندارد سراب\\nناوکش جان درویشان هدف\\nناخنش خون مسکینان خضاب\\nسخن می\\u200cگوید دل می\\u200cبرد\\nنمک می\\u200cریزد کباب\\nحیف پیرهن\\nظلم نقاب\\nخوی دامان بناگوشش بگیر\\nبگیرد جامه\\u200cات بوی گلاب\\nفتنه شاهدی شمعی دست\\nسرگران خواب سرمست شراب\\nبامدادی شب رویت مپوش\\nبپوشانی جمال آفتاب\\nسعدیا برش خواهی چنگ\\nگوشمالت باید رباب\\n\\nسرمست درآمد خرابات\\nعقل خراب مناجات\\nخاک فکنده خرقه زهد\\nآتش زده لباس طامات\\nدل برده شمع مجلس\\nپروانه شادی سعادات\\nجان عجز می\\u200cگفت\\nکای مالک عرصه کرامات\\nخون پیاده\\u200cای خیزد\\nشه\\nحقا جانت کرد\\nجان ملاقات\\nچشم دلم صبر بودی\\nعشق ندیدمی مهمات\\nباقی عمر آید\\nهیهات\\nصافی بشد دور سعدی\\nزین دردی خرابات\\n\\nمتناسبند موزون حرکات دلفریبت\\nمتوجه سخنان حسیبت\\nنمی\\u200cتوان صبوری ستمت کشم ضروری\\nآدمی نباشد برنجد عتیبت\\nاگرم خصم باشی نروم تیرت\\nوگرم سیل باشی نگریزم نشیبت\\nقیاس درنگنجی وصف درنیایی\\nمتحیرم اوصاف جمال زیبت\\nاگرم برآورد بخت تخت پادشاهی\\nبنده باشم عمر رکیبت\\nعجب این شهر پارسا بماند\\nندیده پارسافریبت\\nبرون خبر نداری می\\u200cرود عشقت\\nدرآی آتش بزنیم حجیبت\\nدرخت خوب منظر میوه\\u200cای ولیکن\\nکنم دست کوته نمی\\u200cرسد سیبت\\nشبی انتظاری ننشسته\\u200cای دانی\\nشب گذشت منتظران ناشکیبت\\nشب جدایی شبی بدین درازی\\nبگذر جان سعدی بگداخت نهیبت\\n\\nخصم اندر کمند انداخت\\nمراد ویش بباید\\nعاشق\\nنقره فایق نگشت نگداخت\\nمصلح کوی عشق نرفت\\nدنیا آخرت درباخت\\nچنانش ذکر مشغولم\\nندانم خویشتن پرداخت\\nشکر عشق می\\u200cگویم\\nگرم دل بسوخت جان بنواخت\\nسعدیا خوشتر حدیث نیست\\nتحفه روزگار اهل شناخت\\nآفرین زبان شیرینت\\nکاین شور جهان انداخت\\n\\nفتنه حسن جهان انداخت\\nنظر نمی\\u200cتوان انداخت\\nبلای غمزه نامهربان خون خوارت\\nخون دل یاران مهربان انداخت\\nعقل عافیت کران ماندم\\nروزگار حدیث میان انداخت\\nباغ ماند بستان سرو قامت\\nبرست ولوله باغ بوستان انداخت\\nدوستی دیده مفکنم زنهار\\nدشمنم زبان انداخت\\nچشم\\u200cهای کان چشم کز برگیرند\\nدریغ ماه آسمان انداخت\\nحکایت روزی دوستان برسد\\nسعدی جانان برفت جان انداخت\\n\\nمعلمت شوخی دلبری آموخت\\nجفا ناز عتاب ستمگری آموخت\\nغلام ضحاک چشم فتانم\\nکید سحر ضحاک سامری آموخت\\nمعلم بتگر چین\\nچین زلف آید بتگری آموخت\\nبلبل دستان سرای عاشق\\nبباید سخن گفتن دری آموخت\\nبرفت رونق بازار آفتاب قمر\\nدکان مشتری آموخت\\nقبیله عالمان\\nمرا معلم عشق شاعری آموخت\\nمرا شاعری آموخت روزگار گه\\nچشم مست دیدم ساحری آموخت\\nدهان آموخت تنگی دل\\nوجود میان لاغری آموخت\\nبلای عشق بنیاد زهد بیخ ورع\\nبکند صوفی قلندری آموخت\\nدگر عزم سیاحت کند یاد وطن\\nکویت مجاوری آموخت\\nآدمی چنین شکل قد خوی روش\\nندیده\\u200cام این شیوه پری آموخت\\nخون خلق فروبرده پنجه کاین حناست\\nندانمش قتل شاطری آموخت\\nچنین بگریم این بتواند\\nدیده سعدی شناوری آموخت\\n\\nکهن روزگار ارادت\\nمرا عشق اولست زیادت\\nگرم جواز نباشد پیشگاه قبولت\\nروم نمیرم آستان عبادت\\nمرا قیامت حساب نباشد\\nهجر وصل دیدم جای موت اعادت\\nشنیدمت نظر می\\u200cکنی حال ضعیفان\\nتبم دلم خوش انتظار عیادت\\nگرم گوشه چشمی شکسته ببینی\\nفلک شوم بزرگی مشتری سعادت\\nبیایمت ببینم زهره یارا\\nروم نشینم صبر جلادت\\nمرا هرآینه روزی کشته ببینی\\nدامن قاتل دست ارادت\\nجنازه سعدی کوی دوست برآرند\\nزهی حیات نکونام رفتنی شهادت\\n\\nدل صید کردی نکشد کمندت\\nدگر امید رها بندت\\nخدا پرده آتشت برافکن\\nاتفاق بینی دل عالمی سپندت\\nچمن شکوفه\\u200cای رست دلستانت\\nصبا صنوبری یافت قامت بلندت\\nگرت آرزوی آنست خون خلق ریزی\\nکند شیر گردن ننهد گوسفندت\\nامیر ملک حسنی حقیقت دریغا\\nالتفات بودی فقیر مستمندت\\nبگفتم دل وفا\\nطمع دست رفتی پای درفکندت\\nعشق بودی این حساب سعدی\\nقوت گریزست طاقت گزندت\\n\\nدوست دارم بپوشی قمرت\\nخورشید نبینند بام درت\\nجرم بیگانه نباشد خویش\\nآیینه ببینی برود دل برت\\nجای خنده\\u200cست سخن گفتن شیرین پیشت\\nکآب شیرین بخندی برود شکرت\\nآه سحر شوق نمی\\u200cیارم\\nنباید بشوراند خواب سحرت\\nپیرایه زیادت نکند حسن\\nمشاطه نیاراید این خوبترت\\nبارها گفته\\u200cام این منمای\\nتأمل نکند دیده بصرت\\nبازگویم این معنی راست\\nنتواند ببیند اهل نظرت\\nدشمنم بهر می\\u200cباید\\nیکی دوست ببینم بگوید خبرت\\nسخت نیاید برود\\nنازنینا پریشانی مویی سرت\\nغم نیست خاک نشیند سعدی\\nزحمت خویش نمی\\u200cخواهد رهگذرت\\n\\nبنده آمدم زنهارت\\nندارم سلاح پیکارت\\nمتفق می\\u200cشوم دل ندهم\\nمعتقد می\\u200cشوم دگربارت\\nمشتری بهای نیست\\nبدین مفلسی خریدارت\\nغیرتم اقتدارم نیست\\nبپوشم چشم اغیارت\\nطاقتم ضعیف\\nمی\\u200cکشم نفس می\\u200cکشم بارت\\nکمند پیچیدی\\nمخلص گرفتارت\\nدیدمت گفتم\\nحذر چشم مست خون خوارت\\nدیده شاید برنکند\\nنبیند فراق دیدارت\\nملولی دوستان مشتاق\\nگریزان طلبکارت\\nچشم سعدی خواب بیند خواب\\nببستی چشم سحارت\\nبدین چشم خواب آلود\\nغم چشم\\u200cهای بیدارت\\n\\nمپندار شیرین عبارت\\nکامی حاصل آید مرارت\\nفراق افتد میان دوستداران\\nزیان سود تجارت\\nیکی ببینی کشته دوست\\nدوستانش بشارت\\nندانم عهد حسنت\\nبادل بصارت\\nمرا گوشه چشم دلاویز\\nکشتن می\\u200cکند گویی اشارت\\nحلوا دست صوفی افتد\\nخداترسی نباشد غارت\\nعجب دارم درون عاشقان\\nپیراهن نمی\\u200cسوزد حرارت\\nجمال دوست چندان سایه انداخت\\nسعدی ناپدیدست حقارت\\n\\nدل\\u200cها بردی ساقی ساق فتنه\\u200cانگیزت\\nدریغا بوسه زنخدان دلاویزت\\nخدنگ غمزه نهان انداختن\\nسپر انداخت عقل دست ناوک\\u200cهای خونریزت\\nبرآمیزی بگریزی بنمایی بربایی\\nفغان قهر اندود زهر شکرآمیزت\\nشیرینت شیرین بدیدی سخن گفتن\\nشکرانه بودی بدادی ملک پرویزت\\nجهان فتنه آشوب برآسودی\\nشهرآشوب چشم فتنه\\u200cانگیزت\\nدگر رغبت ماند هشیاری\\nبیند دست آغوش مستان سحرخیزت\\nدمادم درکش سعدی شراب صرف درکش\\nمستان مجلس درنگیرد زهد پرهیزت\\n\\nحرام خلوت نشست\\nحیف چنین بست\\nدامن دولت دست اوفتاد\\nبهلی بازنیاید دست\\nاین نظر خونم بریخت\\nوین نمک ریشم بخست\\nبیفتاد تیرت نخاست\\nدرآمد کمندت نجست\\nمقید شدیم\\nمرغ ماهی شست\\nصبر قفا راهی گریخت\\nعقل بلا دید کنجی نشست\\nمذلت بتوانم کشید\\nعهد محبت نتوانم شکست\\nوین رمقی نیز وجود\\nوجودت نتوان\\nمعنی\\nسجده نکند پرست\\nمستی خمرش نکند آرزو\\nسعدی عشق مست\\n\\nموی آشفته\\u200cام بوی مست\\nنیستم خبر عالم\\nدگر کسم دیده نمی\\u200cباشد\\nخلیل بت\\u200cهای آزری بشکست\\nمجال خواب نمی\\u200cباشدم دست خیال\\nسرای نشاید آشنایان بست\\nقفس طلبد گرفتاریست\\nکمند زنده\\u200cام نخواهم جست\\nغلام دولت آنم پای یکیست\\nجانبی متعلق برست\\nمطیع توام دلم بخواهی سوخت\\nاسیر حکم توام تنم بخواهی\\nنماز شام قیامت هوش بازآید\\nخورده بامداد الست\\nنگاه دیگران مشغول\\nمعاشران عارفان ساقی مست\\nسرو خرامان پای ننشینی\\nفتنه\\u200cها بخیزد میان اهل نشست\\nبرادران بزرگان نصیحتم مکنید\\nاختیار دست تیر شست\\nحذر کنید باران دیده سعدی\\nقطره سیل دگر پیوست\\nخوش بردن دریغ\\nاین سخن بخواهند دست دست\\n\\nدیر آمدی نگار سرمست\\nزودت ندهیم دامن دست\\nآتش عشقت تدبیر\\nچندان زدیم بازننشست\\nنمی\\u200cتوان تافت\\nنمی\\u200cتوان بست\\nرفتنم نیست\\nماهی اوفتاده شست\\nسودای شکردهانان\\nتوبه صالحان بشکست\\nسرو بلند بوستانی\\nدرخت قامتت پست\\nبیچاره ببرید\\nآسوده تنی پیوست\\nچشمت کرشمه خون ریخت\\nقتل خطا غم مست\\nسعدی کمند خوبرویان\\nجان داری نمی\\u200cتوان جست\\nننهی آستانش\\nکنی دری دگر هست؟\\n\\nنشاید گفتن دلی\\nندهد چنین دل دست\\nمنظوری می\\u200cتوان\\nخصمی کز کمندش می\\u200cتوان رست\\nدل گفتم چشمانش بپرهیز\\nهشیاران نیاویزند مست\\nسرانگشتان مخضوبش نبینی\\nدست صبر برپیچید بشکست\\nآزاد سرش می\\u200cتوان خاست\\nمی\\u200cتوان آسوده بنشست\\nدودی رود آتشی نیست\\nخونی بیاید کشته\\u200cای\\nخیالش نظر، آیدم خواب؟\\nنشاید دوستان بست\\nنشاید خرمن بیچارگان سوخت\\nنمی\\u200cباید دل درمندگان\\nآخر دوستی نتوان بریدن\\nنمی\\u200cبایست پیوست\\nدلی دست سعدی\\nنیاید باز تیر شست\\n\\nمراد دوست مرادی ماست\\nمراد خویش دگرباره نخواهم\\nقبول کنی برانی خویش\\nخلاف کردن خلاف مذهب ماست\\nمیان عیب هنر دوستان کریم\\nتفاوتی نکند نظر رضاست\\nعنایتی مبدل\\nخلل پذیر نباشد ارادتی مراست\\nمرا کنی دل نخواهی آزردن\\nدوست پسندد جای دوست رواست\\nعداوت جنگ میان عرب\\nمیان لیلی مجنون محبت صفاست\\nدشمنی افتد قول بدگویان\\nمیان عاشق معشوق دوستی برجاست\\nغلام قامت لعبت قباپوشم\\nمحبت رویش جامه قباست\\nنمی\\u200cتوانم نشست ساعت\\nجان نمی\\u200cتوانم خاست\\nجمال نظر شوق باقی\\nگدا عالم گداست\\nمرا عشق اندیشه ملامت نیست\\nوگر کنند ملامت تنهاست\\nآدمی چنین شخص دلستان بیند\\nضرورت گوید سرو ماند راست\\nخوبان گفتی نظر خطا\\nخطا نباشد مگو چنین خطاست\\nخوش غم هجران دوست سعدی\\nرنج جان می\\u200cرسد امید دواست\\nبلا زحمت دل درویش\\nخوش امید رحمت فرداست\\n\\nبوی گل بانگ مرغ برخاست\\nنشاط صحراست\\nفراش خزان ورق بیفشاند\\nنقاش صبا چمن بیاراست\\nباغ بوستان نیست\\nتویی تفرج\\nگویند نظر خوبان\\nنهیست این نظر راست\\nصنع\\nآبگینه پیداست\\nچشم چپ خویشتن برآرم\\nچشم نبیندت راست\\nآدمیی مهر مهرت\\nنگرفت سنگ خاراست\\nروزی خشک بسوزد\\nآتش سوداست\\nنالیدن بی\\u200cحساب سعدی\\nگویند خلاف داناست\\nورطه خبر\\nآسوده دریاست\\n\\nخوش می\\u200cرود این پسر برخاست\\nسرویست چنین می\\u200cرود راست\\nابروش کمان قتل عاشق\\nگیسوش کمند عقل داناست\\nچنین اسلام\\nگویند بالاست\\nآتش خرمن عزیزان\\nبنشین فتنه برخاست\\nجرم بکش بنده مملوک\\nشرع ببر خانه یغماست\\nدردت بکشم درد داروست\\nخارت بخورم خرماست\\nانگشت نمای خلق\\nزشت ولیک زیباست\\nباید سلامت\\nسهل ملامتی ماست\\nجان قدم ریخت سعدی\\nوین منزلت خدای می\\u200cخواست\\nخواهی دگر حیات یابد\\nبگو کشتهٔ ماست\\n\\nنشنیدیم چنین فتنه برخاست\\nخانه برون بازار بیاراست\\nوهم نگنجد دلبند شیرین\\nوصف نیاید مطبوع زیباست\\nصبر دل می\\u200cرود طاقت آرام\\nزخم پدید بازوش تواناست\\nبهر خدا مپوش زن\\nصنع خدا می\\u200cنگرند چپ راست\\nچشمی بیند قدرت\\nمدهوش نماند نتوان بیناست\\nدنیا کار آید فردوس\\nبارخدا حاجت نتوان\\nفریاد دست غمت عیب نباشد\\nکاین درد نپندارم تنهاست\\nجور جفای نسازیم سازیم\\nزهره یارا چاره مداراست\\nصبر صبر زهر\\nدست زهر زهر حلواست\\nکام دهان دندان داری\\nعیش مهیاست\\nخون جمله عالم بریزی\\nاقرار بیاریم جرم طرف ماست\\nتسلیم سعدی نتواند نباشد\\nبنهد ننهد دست بالاست\\n\\nسلسلهٔ موی دوست حلقه بلاست\\nاین حلقه نیست فارغ این ماجراست\\nبزنندم تیغ نظرش بی\\u200cدریغ\\nدیدن نظر منش خونبهاست\\nبرود جان طلب وصل دوست\\nحیف نباشد دوست دوست\\u200cتر جان ماست\\nدعوی عشاق شرع بیان\\nگونهٔ زردش دلیل ناله زارش گواست\\nمایهٔ پرهیزگار قوت صبر عقل\\nعقل گرفتار عشق صبر زبون هواست\\nدلشدهٔ پایبند گردن جان کمند\\nزهرهٔ گفتار کاین سبب چراست\\nمالک ملک وجود حاکم قبول\\nکند جور نیست بنالی جفاست\\nتیغ برآر نیام زهر برافکن جام\\nکز قبول طرف رضاست\\nبنوازی بگدازی قهر\\nحکم روان زجر رواست\\nجور رقیب جفای حبیب\\nعهد فرامش کند مدعی بی\\u200cوفاست\\nسعدی اخلاق دوست برآید نکوست\\nدشنام کز شیرین دعاست\\n\\nصبر دل صبر سیرت اهل صفاست\\nچارهٔ عشق احتمال شرط محبت وفاست\\nمالک قبول کند پادشاست\\nبزند حاکم بنوازد رواست\\nبخواند دست جزع دعاست\\nبراند امید قفاست\\nبرق یمانی بجست بهاری بخاست\\nطاقت مجنون برفت خیمهٔ لیلی\\nغفلت ایام عشق محقق خطاست\\nصبح خیز کآخر دنیا فناست\\nصحبت یار عزیز حاصل دور بقاست\\nدمه دیدار دوست جهانش بهاست\\nدرد دل دوستان پسندی رواست\\nمراد شماست غایت مقصود ماست\\nبنده دعوی کند حکم خداوند راست\\nقدم می\\u200cنهی بنهم چشم راست\\nخویشم مران کاین طریق وفاست\\nشهری غریب ملکی گداست\\nجرمم امید خوفم رجاست\\nدرم کیمیاست\\nسعدی عاشقی میل وصالت چراست\\nدل دوست جست مصلحت نخواست\\n\\nخرم بقعه آرامگه یار آنجاست\\nراحت جان شفای دل بیمار آنجاست\\nاین جای بی\\u200cجانم\\nدلم آنجاست دلبر عیار آنجاست\\nتنم اینجاست سقیم دلم آنجاست مقیم\\nفلک اینجاست کوکب سیار آنجاست\\nآخر صبا بویی می\\u200cآری\\nشیراز گذر مرا یار آنجاست\\nدرد دل گویم غم دل خورم\\nروم مرا محرم اسرار آنجاست\\nنکند میل دل تماشای چمن\\nتماشای دل آنجاست دلدار آنجاست\\nسعدی این منزل ویران کنی جای نیست\\nرخت بربند منزلگه احرار آنجاست\\n\\nعشق ورزیدم عقلم ملامت برخاست\\nکان عاشق حکم سلامت برخاست\\nشاهد گلروی خلوت بنشست\\nنتواند ملامت برخاست\\nشنیدی برانگیخت سمند غم عشق\\nاندر عقبش ندامت برخاست\\nعشق غالب گوشه نشینان صلاح\\nمستوری ناموس کرامت برخاست\\nگلستانی کان گلبن خندان بنشست\\nسرو آزاد پای غرامت برخاست\\nگل صدبرگ ندانم رونق بشکفت\\nصنوبر کدامین قد قامت برخاست\\nزمانی تکلف سعدی بنشست\\nفتنه بنشست برخاست قیامت برخاست\\n\\nزلف بناگوش شب\\nصنوبر درخت رطب\\nدهانیست وهم سخندان آید\\nاندر سخن آیی بداند\\nآتش زین خلق\\nعجب سوختگی نیست خامی عجب\\nآدمی نیست عاشق نشود بهار\\nگیاهی نوروز نجنبد حطب\\nجنبش سرو پنداری کز صباست\\nنالهٔ مرغان چمن طرب\\nاین میل نباشد مرا\\nکآفتابی کوتاه نظر مرغ شب\\nخواهم اندر طلبت عمر پایان\\nراهم اندازهٔ پای طلب\\nقضایی سببی غم دوست\\nاجلم می\\u200cکشد درد فراقش سبب\\nسخن خویش بیگانه نمی\\u200cیارم\\nگله دوست دشمن طریق ادب\\nلیکن این حال محال پنهان ماند\\nزره می\\u200cدری پرده سعدی قصب\\n\\nماه دوهفته نقاب\\nحوری دست خضاب\\nسیلاب گذشت یارا\\nاندازه مبر جفا\\nتندی جفا زشتخویی\\nمی\\u200cکنی نکویی\\nبهشت بابی\\nدل نمک کبابی\\nصبر نیاورد تاب\\nچشمم غمت نمی\\u200cبرد خواب\\nشهرهٔ شهر فتنهٔ خیل\\nفی منظرک النهار اللیل\\nداروی دلپذیر دردم\\nاقرار بندگیت کردم\\nامیر اسیریم\\nبزرگ حقیریم\\nسرو روان گلبن\\nپیکر آفتاب پرتو\\nامشب شب خلوت\\nطالع سعد بخت فیروز\\nساقی قدحی قلندری\\nمعاشران هشیار\\nغرور زندگانی\\nبرق لوامع جوانی\\nاین گرسنه گرگ ترحم\\nسیر نمی\\u200cشود\\nسعدی وصل اویی\\nلاف زنی قرب جویی\\n\\nدیدار حل مشکلات\\nصبر خلاف ممکنات\\nدیباچهٔ بدیعت\\nکمال حسن ذات\\nلبهای خضر بدیدی\\nگفتی چشمه حیات\\nکوزهٔ دهانت\\nکوزهٔ نبات\\nترسم سحر غمزه\\nدعوی بکنی معجزات\\nزهر نوشدارو\\nفحش طیبات\\nصورتی ندیدم\\nشهر مبطل صلات\\nعهد توبهٔ عشق\\nمی\\u200cبینم ثبات\\nآخر نگهی\\nکاین دولت حسن زکات\\nتشنه بسوخت بیابان\\nفایده جهان فرات\\nسعدی غم نیستی\\nجان عاشقان نجات\\n\\nسرو چمن اعتدال پست\\nبازار آفتاب شکسته\\u200cست\\nشمع فلک مشعل انجم\\nوجودت چراغ بازنشسته\\u200cست\\nتوبه کند گناه شعبان\\nرمضان نیز چشم\\u200cهای مست\\nاین زورآوری مردی شیری\\nندانم کمند جسته\\u200cست\\nاین یکی دوستان تیغ کشته\\u200cست\\nدگر عاشقان تیر خسته\\u200cست\\nدیده دل می\\u200cبرد حکایت مجنون\\nدیده دل مهر نبسته\\u200cست\\nدست طلب دامن معشوق\\nکش اختیار دست\\nروحانیی تعلق خاطر\\nدواب نفس\\u200cپرست\\nمنکر سعدی ذوق عشق\\nنیشکرش دهان تلخ کبست\\n\\nمجنون عشق دگر حالت\\nکاسلام لیلی ضلالت\\nفرهاد شیرین ترش کند\\nاین شکیب نیست ملالت\\nعذرا نانوشته بخواند حدیث عشق\\nداند دیدهٔ وامق رسالت\\nمطرب طریق غزل نگاه\\nکاین برگرفت جایی دلالت\\nمدعی می\\u200cگذری\\nغرقه\\u200cایم ندانی حالت\\nزین رویم خاک\\nواو خون بریزد حوالت\\nقدم نمی\\u200cکنمش اهل دل\\nنمی\\u200cکنم مقام خجالت\\nیاد دوست کنی عمر ضایع\\nعشق بگویی بطالت\\nدگر معامله هیچکس نماند\\nبیعی حضور کردم اقالت\\nجفات بوی وفایی همی\\u200cدهد\\nتعنتیت استمالت\\nسعدی بشوی لوح دل نقش غیر\\nعلمی ننماید جهالت\\n\\nکآب زندگانی دهان توست\\nتیر هلاک ظاهر کمان توست\\nبرقعی فرونگذاری بدین جمال\\nشهر کشته ضمان توست\\nتشبیه نکنم آفتاب\\nکاین مدح آفتاب تعظیم توست\\nنظر گوشهٔ چشم ارادتی\\nکنی نکنی حکم توست\\nخلق یاری صاحبیست\\nآستان توست\\nبسیار دیده\\u200cایم درختان میوه\\u200cدار\\nزین ندیده\\u200cایم بوستان توست\\nدست دوستان نرسد باغ جرم\\nمنعی می\\u200cرود گنه باغبان توست\\nبسیار دل اندیشه\\u200cها\\nنقشی نمی\\u200cرود دل توست\\nنوبت دشمنی کنی\\nدوست دل مهربان توست\\nسعدی قدر خویش تمنای وصل\\nسیمرغ لایق زاغ آشیان توست\\n\\nصبحدم نسیم گل بوستان توست\\nالحان بلبل نفس دوستان توست\\nخضر دید جان بخش دلفریب\\nگفتا چشمهٔ حیوان دهان توست\\nیوسف بندگیت کمر بسته میان\\nبودش یقین ملک ملاحت توست\\nشاهدی نظر دلبری\\nدل نیافت مکان توست\\nچشمهٔ کوثر شنیده\\u200cای\\nکاو نشانی بی\\u200cنشان توست\\nرشک آفتاب جمالت آسمان\\nماه ماه دیدم ابروان توست\\nاین روح پرور انفاس صبحدم\\nگویی طرهٔ عنبرفشان توست\\nپیرهن قبا کنم خرمی\\nبینم دست کمر میان توست\\nگفتند میهمانی عشاق می\\u200cکنی\\nسعدی بوسه\\u200cای میهمان توست\\n\\nاتفاقم کوی افتاده\\u200cست\\nکوی کشته بسی افتاده\\u200cست\\nخبر برسانید مرغان چمن\\nآواز قفسی افتاده\\u200cست\\nدلارام بگو نفس سحر\\nکار سحر نفسی افتاده\\u200cست\\nپای تحمل کند نکند\\nانگبین مگسی افتاده\\u200cست\\nهیچکس عیب هوس باختن نکند\\nهوسی افتاده\\u200cست\\nسعدیا حال پراکندهٔ گوی داند\\nعمر چوگان افتاده\\u200cست\\n\\nتویی سرو بستانی رفتار آمده\\u200cست\\nملک گفتار آمده\\u200cست\\nپری کز خلق پنهان روزگار\\nباز می\\u200cبینم عالم پدیدار آمده\\u200cست\\nعود می\\u200cسوزند گل می\\u200cدمد بوستان\\nدوستان کاروان مشک تاتار آمده\\u200cست\\nمرا نقش رویش آشنایی اوفتاد\\nمی\\u200cبینم چشمم نقش دیوار آمده\\u200cست\\nساربانا نظر زیبا نگار\\nجانی می\\u200cدهد اینک خریدار آمده\\u200cست\\nدگر خانه ننشینم اسیر دردمند\\nخاصه این ساعت گفتی گل بازار آمده\\u200cست\\nانکار نظر آفرینش می\\u200cکنی\\nهمی\\u200cگویم چشم بهر این کار آمده\\u200cست\\nبازبینم یار خویش\\nمرده\\u200cای بینی دنیا دگربار آمده\\u200cست\\nمی\\u200cرود بندت آرام جان\\nگویم بندی گرفتار آمده\\u200cست\\nنی می\\u200cنالد مجلس آزادگان\\nزان همی\\u200cنالد زخم بسیار آمده\\u200cست\\nنپنداری چشم خواب آلود\\nبرفتی خوابم اندر چشم بیدار آمده\\u200cست\\nسعدیا همتی داری منال جور یار\\nجهان بوده\\u200cست جور یار یار آمده\\u200cست\\n\\nشب فراق داند سحر\\nزندان عشق دربند\\nگرفتم غم دل بوستان گیرم\\nسرو دوست\\nپیام رساند یار مهرگسل\\nبرشکستی پیوند\\nقسم جان گفتن طریق عزت نیست\\nخاک پای عظیم سوگند\\nشکستن پیمان برگرفتن دل\\nدیده دیدارت آرزومند\\nبیا کویت بساط چهرهٔ ماست\\nجای خاک پایت افکنده\\u200cست\\nخیال بیخ امید بنشانده\\u200cست\\nبلای عشق بنیاد صبر برکنده\\u200cست\\nعجب مجموع قیاس کنی\\nخم مویت دلی پراکند\\nبرهنه نباشی شخص بنمایی\\nگمان برند پیراهنت گل آکند\\nدست منم این سودا\\nدستها دست خداوند\\nفراق یار کاه برگی نیست\\nبیا دل بین کوه الوند\\nضعف طاقت آهم نماند ترسم خلق\\nگمان برند سعدی دوست خرسند\\n\\nافسوس دیده ندیده\\u200cست\\nدیده رویی نگریده\\u200cست\\nمدعیان نقش ببینند پری\\nدیوانه جامه دریده\\u200cست\\nکیست پیرامن خورشید جمالش\\nمشک سیه دایرهٔ نیمه کشیده\\u200cست\\nعاقل پای سنگیت برآید\\nفرهاد بدانی سنگ بریده\\u200cست\\nرحمت نکند دل بیچاره فرهاد\\nسخن گفتن شیرین نشنیده\\u200cست\\nدست کمان مهرهٔ ابروی شهر\\nدل نیست کبوتر نطپیده\\u200cست\\nوهم نیاید مطبوع درختی\\nپیداست این میوه نچیده\\u200cست\\nقلم قدرت الهی\\nآیینه پدید\\nغیر نداریم تمنا\\nحلوا محبت نچشیده\\u200cست\\nاین باران بلا سعدی\\nنشگفت اگرش خانهٔ چشم چکیده\\u200cست\\n\\nلعبت خندان لعلت مزیده\\u200cست؟\\nباغ لطافت رویت گزیده\\u200cست؟\\nزیباتر این صید عمر نکرده\\u200cست\\nشیرین\\u200cتر این خربزه نبریده\\u200cست\\nخضر حلالت نکنم چشمهٔ حیوان\\nدانی سکندر محنت طلبیده\\u200cست\\nخون ریخته\\u200cای سرخ\\nتوت سیاه جامه چکیده\\u200cست\\nجمله برآمیزی بگریزی\\nجرم نباشد گنه بخت رمیده\\u200cست\\nنیک دیوار بیفتاد\\nهیچکس این باغ نگویی ندیده\\u200cست\\nبسیار توقف نکند میوهٔ\\nعام بدانست شیرین رسیده\\u200cست\\nگل نیز هفته باز نمی\\u200cکرد\\nوامروز نسیم سحرش پرده دریده\\u200cست\\nدجله مرغابی اندیشه نرفتی\\nکشتی رود اکنون تتر جسر بریده\\u200cست\\nفقاع گشایند دگربار\\nاین کوزه بیگانه مکیده\\u200cست\\nسعدی بستان هوای دگری زن\\nوین کشته رها گله چریده\\u200cست\\n\\nمی\\u200cرود سخن دوست خوشتر\\nپیغام آشنا نفس روح پرور\\nوجود حاضر غایب شنیده\\u200cای\\nمیان جمع دلم جای\\nشاهد میان شمع بمیر\\nچراغ نباشد منور\\nابنای روزگار صحرا روند باغ\\nصحرا باغ زنده دلان کوی دلبر\\nجان می\\u200cروم قدم اندازمش شوق\\nدرمانده\\u200cام نزلی محقر\\nکاش خشم رفتهٔ آشتی کنان\\nبازآمدی دیدهٔ مشتاق\\nجانا دلم عود آتش بسوختی\\nوین می\\u200cزنم غمت مجمر\\nشب\\u200cهای توام شب گور خیال\\nبامداد کنم محشر\\nگیسوت عنبرینهٔ گردن\\nمعشوق خوبروی محتاج زیور\\nسعدی خیال بیهده بستی امید وصل\\nهجرت بکشت وصل هنوزت مصور\\nزنهار این امید درازت دل\\nهیهات این خیال محالت\\n\\nاین بوی روح پرور خوی دلبر\\nوین زندگانی حوض کوثر\\nبوستان مگرت نافه میان\\nمرغ آشنا مگرت نامه پر\\nبوی بهشت می\\u200cگذرد نسیم دوست\\nکاروان صبح گیتی منور\\nاین قاصد زمین مشک بوی\\nوین نامه معطرست\\nعود آتش نهاده\\u200cاند\\nزمین تویی خاک عنبر\\nبازآ حلقه رندان شوق زن\\nکاصحاب دیده مسمار\\nبازآ فراق چشم امیدوار\\nگوش الله اکبر\\nدانی همی\\u200cگذرانیم روزگار\\nروزی می\\u200cگذرد محشر\\nگفتیم عشق صبوری دوا کنیم\\nعشق بیشتر صبر کمتر\\nچشم غایب اخلاق نظر\\nدیدار حجاب معانی\\nنامه نیز بگنجد حدیث عشق\\nکوته کنم قصهٔ کار دفتر\\nدرخت بادیه سعدی برق شوق\\nسوزان میوهٔ سخنش\\nخوش حریفان بوی عود\\nسوز غافلند جان مجمر\\n\\nعیب یاران دوستان هنر\\nسخن دشمنان معتبر\\nمهر مهر درون نرود\\nبرادر نقش حجر\\nلطافت دوست\\nگویم لطیف\\u200cتر\\nمنظور دیده دل ماست\\nنتوان شمس قمر\\nحال باشید\\nبرادر حال دگر\\nخواب بوده\\u200cای شب\\nنصیبت بلبل سحر\\nآدمی جان معنی نیست\\nحقیقت درخت بی\\u200cثمر\\nپراکندگان مجموعیم\\nیار غایب نظر\\nبرگ خشک می\\u200cشود زمان\\nبرگ چشمان همیشه\\nجان شیرین فدای صحبت یار\\nشرم دارم نیک مختصر\\nاین قدر قدر اوست ولیک\\nامکان قدر\\nپرده نمی\\u200cتوان پوشید\\nبرادر عشق پرده\\nسعدی بارگاه قربت دوست\\nخبر یافته\\u200cست بی\\u200cخبر\\nاینک نهاده\\u200cایم طوع\\nخداوندگار\\n\\nنتوان صاحب نظر\\nعشقبازی دگر نفس پرستی دگر\\nچشم بینند سیاه سپید\\nسپیدی سیاهی بشناسد بصر\\nآتش عشقش طاقت سوز\\nکآفت پروانه پر\\nدوست بنالم نفسم صادق نیست\\nخبر دوست خبر\\nآدمی دفع کند شهوت نفس\\nآدمی خوی جانور\\nشربت دست دلارام شیرین تلخ\\nبده دوست مستسقی تشنه\\u200cتر\\nعشق فهم سخن می\\u200cنکنم\\nهرچ تلخترم بگویی شکر\\nتیغم بزنی مرا خصمی نیست\\nخصم آنم میان تیغت سپر\\nاین نخواهم عمر\\nپایی دست تاج\\nدست سعدی جفا نگسلد دامن دوست\\nترک لؤلؤ نتوان دریا خطر\\n\\nفریاد فراق یار\\nوافغان غم نگار\\nماه نگارین\\nرخسارهٔ خون نگار\\nخون جگرم فرقت\\nدیده روانه\\nدرد دل گذشته\\u200cست\\nجانم فراق بی\\u200cقرار\\nغم آگهی نیست\\nآوخ جهان پایدار\\nدست زمانه عذابم\\nزان جان دلم فکار\\nسعدی کنی شکایت دوست\\nشادی غم برقرار\\n\\nچشمت خوشست خواب خوشترست\\nطعم دهانت شکر خوشترست\\nزنهار تبسم شیرین می\\u200cکنی\\nکز خنده شکوفه سیراب خوشترست\\nشمعی گفتم برکنم\\nحاجت شمع نیست مهتاب خوشترست\\nدوش آرزوی خواب خوشم زمان\\nامشب نظر خواب خوشترست\\nخوابگاه عاشق دوست\\nکیمخت خارپشت سنجاب خوشترست\\nزان بحر آتش خوانیم\\nرفتن آتشم خوشترست\\nروان سبزه صحرا لاله\\nمگو چشم احباب خوشترست\\nزهرم دست رقیبان تندخوی\\nدست بده جلاب خوشترست\\nسعدی دگر گوشه وحدت نمی\\u200cرود\\nخلوت خوشست صحبت اصحاب خوشترست\\nباب این کتاب نگارین برکنی\\nبهشت گویی باب خوشترست\\n\\nعشرت خوش طرف جوی خوشتر\\nسماع بلبل خوشگوی خوشتر\\nعیش سمن خواب صبح؟\\nنی، یار سمن بوی خوشتر\\nخواب خمار بادهٔ نوشین بامداد\\nبستر شقایق خودروی خوشتر\\nجمال دوست صحرا مکن\\nهمنشین وفاجوی خوشتر\\nآواز چنگ مطرب خوشگوی مباش\\nحدیث همدم خوشخوی خوشتر\\nشاهد سبزه اطراف گلستان\\nعارضین شاهد گلروی خوشتر\\nنسیم زره گشته گیر\\nمفتول زلف یار زره موی خوشتر\\nچشمه کوثر بستان بهشت\\nمقام این کوی خوشتر\\nسعدی جفا نبرده دانی قدر یار؟\\nتحصیل کام دل تکاپوی خوشتر\\n\\nسرو روان قد چالاکترست\\nدل طربناکترست\\nدگر حربه خونخوار اجل نندیشم\\nغمزه خونریز ناباکترست\\nچست بودست مرا کسوت معنی\\nباز قامت زیبای چالاکترست\\nنظر پاک مرا دشمن طعنه زند\\nدامن دوست بحمدالله پاکترست\\nگل باغ لطافت بشکفت\\nپردهٔ صبر دامن گل چاکترست\\nپای دیده سعدی بخرامی\\nمنزلت خاک درت خاکترست\\n\\nدلی عاشق صابر سنگ\\nعشق صبوری فرسنگ\\nبرادران طریقت نصیحتم مکنید\\nتوبه عشق آبگینه سنگ\\nدگر خفیه نمی\\u200cبایدم شراب سماع\\nنیکنامی عاشقان ننگ\\nتربیت شنوم مصلحت بینم\\nمرا چشم ساقی گوش چنگ\\nیادگار دامن نسیم صبا\\nگرفته\\u200cایم دریغا چنگ\\nخشم رفتهٔ می\\u200cبرد پیغام\\nبیا سپر انداختیم جنگ\\nبکش توانی مشاهده\\u200cات\\nفراخنای جهان وجود تنگ\\nملامت دل سعدی فرونشوید عشق\\nسیاهی حبشی رود خودرنگ\\n\\nپای سرو بوستانی گل\\nسرو پای معنی دل\\nچشمش اوفتاد\\nطالعش میمون فالش مقبل\\nنیکخواهانم نصیحت می\\u200cکنند\\nخشت دریا زدن بی\\u200cحاصل\\nبرادر گرداب اندریم\\nشنعت می\\u200cزند ساحل\\nشوق صبر قوت غالب\\nعقل عشق دعوی باطل\\nنسبت عاشق غفلت می\\u200cکنند\\nوآن معشوقی غافل\\nدیده باشی تشنه مستعجل\\nجان جانان مستعجل\\nبذل جاه مال ترک ننگ\\nطریق عشق منزل\\nبمیرد طالبی دوست\\nسهل زندگانی مشکل\\nعاشقی می\\u200cگفت خوش خوش می\\u200cگریست\\nجان بیاساید جانان قاتل\\nسعدیا عاشقان\\nخلق مجنونند مجنون عاقل\\n\\nدیده دیدار خوبان برگرفتن مشکلست\\nاین نصیحت می\\u200cکند بی\\u200cحاصلست\\nیار زیبا هزارت وحشت دلست\\nبامدادان دیدن صباح مقبلست\\nچاه زنخدانش دل بیچارگان\\nملک محبوس زندان چاه بابلست\\nاین دعوی پرهیزگاری کردمی\\nباز می\\u200cگویم دعوی کردم باطلست\\nزهر خردمندان قاتلست\\nدست دوست می\\u200cگیری شفای عاجلست\\nقدم نمی\\u200cیارم نهاد کوی دوست\\nدوستان معذور داریدم پایم گلست\\nدیوانه گویندم فرزانگان\\nترک جان نتوان گرفتن گویی عاقلست\\nمی\\u200cگوید نظر خوبان خطاست\\nهمی\\u200cبیند معنی غافلست\\nساربان آهسته کآرام جان محملست\\nچارپایان پشتند دلست\\nمنزل فراق افتد میان دوست\\nهمچنانش میان جان شیرین منزلست\\nسعدی آسانست گرفتن دوستی\\nلیک پیوند باز کردن مشکلست\\n\\nشراب دست خوبان سلسبیلست\\nخون میخواران سبیلست\\nنمی\\u200cدانم رطب چاشنی\\nهمی\\u200cبینم خرما نخیلست\\nوسمست دلبندی خضیبست\\nسرمست جادویی کحیلست\\nسرانگشتان صاحب دل فریبش\\nحنا خون قتیلست\\nکاروان محمل برانید\\nپای رحیلست\\nشب فراق لیلی\\nمجنون رود لیلی طویلست\\nکمندش می\\u200cدواند پای مشتاق\\nبیابان نپرسد میلست\\nافتان خیزان باید\\nپای پیلست\\nحبیب دستی برفشاند\\nمحب نیفشاند بخیلست\\nطاعت آید شرمساریم\\nایشان قبیح آید جمیلست\\nبدیل دوستان گیرند یاران\\nولیکن شاهد بی\\u200cبدیلست\\nسخن مگوی عشق سعدی\\nسخن عشقست قال قیلست\\n\\nکارم زلف یار پریشان درهمست\\nپشتم سان ابروی دلدار پرخمست\\nغم شربتی خون دلم نوش کرد\\nاین شادی این دور خرمست\\nدل منست گرفتار غمان\\nاین زمانه دل شادمان کمست\\nزین سان می\\u200cدهد دل غمی\\nانصاف ملک عالم عشقش مسلمست\\nدانی خیال چشم\\nاین نمست\\nخواهی روشن دانی حال\\nتیره شب بپرس نیز محرمست\\nکاشکی میان منستی دلبرم\\nپیوندی این چنین میان غمست\\n\\nیارا بهشت صحبت یاران همدمست\\nدیدار یار نامتناسب جهنمست\\nحضور عزیزی برآوری\\nدریاب کز حیات جهان حاصل دمست\\nچشم گوش دهان آدمیست\\nدیو فرزند آدمست\\nآنست آدمی حسن سیرتی\\nصورتیست دگر حشو عالمست\\nحسد نبرده حسرت نخورده\\u200cام\\nیار موافق همست\\nبهار صحرا نمی\\u200cروند\\nبوی خوش ربیع ایشان محرمست\\nسنگ دل دیده بدوزد خوب\\nپندش جهل نیک محکمست\\nآرام نیست عالم اتفاق\\nمجاورت یار محرمست\\nخون می\\u200cرود ریش اهل دل\\nدیدار دوستان ببینند مرهمست\\nدنیا خوشست مال عزیزست شریف\\nلیکن رفیق مقدمست\\nممسک مال ساله تنگ دل\\nسعدی دوست خرمست\\n\\nصبوحی زده\\u200cام خرقه حرام\\nمجلسیان خرابات\\nجهان خرمیی گرفتند\\nغمت ماه پری چهره\\nبرخیز سایه سروی بنشینیم\\nکان بنشینی سرو قیام\\nدل صاحب نظرانت خم گیسوست\\nخال بناگوش دانه\\nحریفی چنین جای این\\nباده خورم خمر بهشتی حرام\\nمحتسب شهر بگویید زنهار\\nمجلس سنگ مینداز جام\\nغیرت نگذارد بگویم مرا کشت\\nخلق ندانند معشوقه\\nدردا بپختیم این سوز نهانی\\nخبر آتش نیست خام\\nسعدی مبر اندیشه کام نهنگان\\nنظر دوست نشینی کام\\n\\nامشب راستی شب روشن\\nعید وصال دوست علی رغم دشمن\\nبهشت می\\u200cگذرد نسیم باغ\\nنکهت دهان بوی لادن\\nنباشد جانت عزیزتر\\nچشمم سرست روانم\\nگردن نهم خدمت گوشت کنم قول\\nخاطرم معلق گوش گردن\\nپادشاه سایه درویش وامگیر\\nناچار خوشه چین خرمن\\nدور جهان فراخم مجال نیست\\nعالم چشم تنگ دلان چشم سوزن\\nعاشق گریختن نتواند دست شوق\\nمی\\u200cرود متعلق دامن\\nشیرین نمی\\u200cرود خانه رقیب\\nداند شکر دفع مگس بادبیزن\\nجور رقیب سرزنش اهل روزگار\\nحکایت گاو دهلزن\\nبازان شاه حسد آید بدین شکار\\nکان شاهباز دل سعدی نشیمن\\nقلب رقیق بپوشد حدیث عشق\\nهرچ آبگینه بپوشی مبین\\n\\nاین بهار بوستان\\nبوی وصال دوستان\\nدل می\\u200cبرد این خط نگارین\\nگویی خط دلستان\\nمرغ دل گرفتار\\nبازآی آشیان\\nشب\\u200cها شمع می\\u200cگدازیم\\nاین سوز نهان\\nگوشم انتظارت\\nنظر آستان\\nبانگ مؤذنی میاید\\nگویم درای کاروان\\nدشمنی کردی\\nبازآی دوستی\\nقوت بازوان عشقت\\nسرپنجهٔ صبر ناتوان\\nبیزاری دوستان دمساز\\nتفریق میان جسم جان\\nنالیدن دردناک سعدی\\nدعوی دوستی بیان\\nآتش نی قلم درانداخت\\nوین حبر می\\u200cرود دخان\\n\\nاین خط شریف بنان\\nوین نقل حدیث دهان\\nاین بوی عبیر آشنایی\\nساحت یار مهربان\\nمهر نامه برگرفتم\\nگفتی گلابدان\\nقاصد آهوی ختن\\nکش نافهٔ مشک میان\\nاین عبارت لطیف\\nوین کفایت بیان\\nمعلوم این حدیث شیرین\\nکز منطق شکرفشان\\nاین خط زمین نشاید انداخت\\nکز جانب ماه آسمان\\nروزی برود روان سعدی\\nکاین عیش عیش جاودان\\nخرم روانش\\nبرود سخن روان\\n\\nکاروان\\nشمعی دست ساروان\\nسلیمان گویی عماری\\nصبا تختش روان\\nجمال ماه پیکر بلندی\\nبدان ماند ماه آسمان\\nبهشتی صورتی جوف محمل\\nبرجی کآفتابش میان\\nخداوندان عقل این طرفه بینند\\nخورشیدی سایبان\\nنیلوفر مهر میغ\\nپری نقاب پرنیان\\nکار برقع برانداخت\\nبرقع نهان\\nپیشی رفتار\\nبیش\\nزهی اندک وفای سست پیمان\\nسنگین دل نامهربان\\nدوستی\\nوفای عهد\\nبدار ساربان آخر زمانی\\nعهد وصل آخرزمان\\nوفا کردیم غدر کردند\\nسعدی این پاداش\\nندانستی پایان پیری\\nپنجه کردن جوان\\n\\nسختی آید آسان\\nدوستی ارادت چندان\\nسفر دراز نباشد پای طالب دوست\\nدشت محبت گل ریحان\\nجور کنی جور نیست تربیتست\\nداغ نهی داغ نیست درمان\\nآبروی خون دل بخواهی ریخت\\nمخالفت نکنم کنم فرمان\\nعقل عجب آید صوابگویان\\nدل دست خلاف جان\\nدور اوفتاده\\u200cام عجب\\nگرم قرار نباشد داغ هجران\\nعجب زلف معنبر مفتول\\nخسبد پریشان\\nجماعتی ندانند حظ روحانی\\nتفاوتی میان دواب انسان\\nگمان برند باغ عشق سعدی\\nنظر سیب زنخدان پستان\\nمرا هرآینه خاموش اولی\\u200cتر\\nجهل خردمند عذر نادان\\nابرئ نفسی ازکیها\\nنقل کنند بشر امکان\\n\\nنسیم سحر بوی زلف یار منست\\nراحت دل رنجور بی\\u200cقرار منست\\nخواب درنرود چشم بخت عمر\\nگرش خواب ببینم منست\\nمعاینه بینم جان\\nجان مضایقه دوستان کار منست\\nحقیقت درخورد اوست جان عزیز\\nولیک درخور امکان اقتدار منست\\nاختیار منست این معاملت لیکن\\nرضای دوست مقدم اختیار منست\\nغمست جفای دل\\nبنده اویم غمگسار منست\\nدرون خلوت غیر نمی\\u200cگنجد\\nیار منست منست\\nلاله گلستان نمی\\u200cرود دل\\nیاد دوست گلستان لاله منست\\nستمگرا دل سعدی بسوخت طلبت\\nدلت نسوخت مسکین امیدوار منست\\nمراد اینست مرادی\\nتفاوتی نکند مراد یار منست\\n\\nمپرس دست دلت چونست\\nازو بپرس انگشت\\u200cهاش خونست\\nوگر حدیث کنم تندرست خبر\\nاندرون جراحت رسیدگان چونست\\nحسن طلعت لیلی نگاه می\\u200cنکند\\nفتاده بیچاره\\u200cای مجنونست\\nخیال سرست\\nمرا خیال کز خیال بیرونست\\nخجسته کز درش بازآیی\\nبامداد فال میمونست\\nچنین شمایل موزون قد خوش راست\\nترک عشق گفتن طبع موزونست\\nملامت عشق برگردد\\nمرا گویی ارادت افزونست\\nپادشاه منادی زده\\u200cست مخورید\\nبیا چشم دهان مست میگونست\\nسعدی کز دور افتاد\\nدیده گویی جیحونست\\n\\nمهر منش کینست\\nکنم حظ بخت اینست\\nشاید نفس دگر نکنی\\nپنجه ساعدی سیمینست\\nننهد پای نبیند جای\\nچشم مصلحت بینست\\nزیرکان چنبر عشق\\nطفل نادان مار رنگینست\\nدردمند فراق ننهد\\nشب گور بالینست\\nگریه هلاک مکنید\\nاین نوبت نخستینست\\nلازمست احتمال جور\\nمحبت چندینست\\nهزارم جواب تلخ دهی\\nاعتقاد شیرینست\\nشیر کمند آرد\\nکمندش مسکینست\\nسعدیا نیستی درده\\nچاره سخت بازوان اینست\\n\\nبخت جوان قرینست\\nپیر نگردد بهشت برینست\\nجانبم نماز نباشد\\nاشارت کنی قبله چنینست\\nآینه\\u200cای آفتاب نهادست\\nخیمه شعاع جبینست\\nعالم لوح فکر بشویند\\nعشق نقش نگینست\\nگوشه گرفتم خلق فایده\\u200cای نیست\\nگوشه چشمت بلای گوشه نشینست\\nتصور کنی صبوریم\\nنفسی می\\u200cزنیم بازپسینست\\nحسن طبل عشق فروکوفت\\nبانگ برآمد غارت دل دینست\\nسیم زرم مباش دنیی اسباب\\nبینم ملک زمینست\\nعاشق صادق زخم دوست نمیرد\\nزهر مذابم بده ماء معینست\\nسعدی این\\nرود ضلال مبینست\\n\\nسرو شنیده\\u200cست رفته\\u200cست این\\nصنوبر بناگوش برش سیمین\\nبلندیست معلوم کنی\\nبلند نظر کوته\\u200cبین\\nخواب عهد چشم آید هیهات\\nعاشقی کار نیست بالین\\nآرام گرفتند شب نیمه گذشت\\nوآنچه خواب چشم پروین\\nگرفتم نظر خوبان کفر\\nاین بازنگردم مرا این\\nصحرا گیرند\\nخاصه اکنون بهار فروردین\\nچمن بهشت می\\u200cبایی\\nخلایق گویند حورالعین\\nگفتیم اوصاف کمالیت\\nنگفتیم\\nسرپنجهٔ سیمین سعدی کرد\\nکبوتر نکند پنجه شاهین\\nدگر شعر نخواهم نویسم مگس\\nزحمتم می\\u200cدهد سخن شیرین\\n\\nخردمندی خوبی پارسا نیکخوست\\nصورتی ندیدم کاین معنی اوست\\nخیال یاری اندیشند باری یار\\nهوای دوستی ورزند باری دوست\\nخاک پایش بوسه خواهم آبم ببر\\nآبروی مهربانان معشوق جوست\\nشاهدش دیدار گفتن فتنه ابرو چشم\\nنادرش رفتن دلپذیرش طبع خوست\\nبازآیم گه وصف دیدارش کنم\\nمی\\u200cپرسی این میدان سرگردان گوست\\nعیب پیراهن دریدن می\\u200cکنندم دوستان\\nبی\\u200cوفا یارم پیراهن همی\\u200cدرم پوست\\nخاک سبزآرنگ گلفشان خوش\\nمرواریدباران هوای مشک بوست\\nتیرباران صوفی گرفتار نظر\\nمدعی گوی عاشق اندر جست جوست\\nکنج اختیار دست بدار\\nکان شوریده پایش گنجی فروست\\nچشم دوست داری گوش دشمن مکن\\nعاشقی نیک نامی سعدیا سنگ سبوست\\n\\nبتا هلاک دوست محبت دوست\\nزندگانی هلاک اوست\\nمرا جفا وفای سان\\nدوست پسندد جای دوست نکوست\\nمرا عشق گیتی شکم زاده\\u200cست\\nروح بدنی مغز پوست\\nآزادگان رود زیباست\\nعلی\\u200cالخصوص دست یار زیباخوست\\nدلم دست سروبالایی\\nخلاف عادت سروها جوست\\nخواب دوش دیدمی زلفینش\\nبودم دستم غالیه\\u200cبوست\\nگوی عالم جان بگردیدم\\nدست عشقش چوگان گوست\\nجماعتی چشم بیرونی\\nنظر کنند ندانند کآتشم توست\\nدوست بینی مراد\\nمراد خاطر سعدی مراد خاطر اوست\\n\\nسرمست درآمد درم دوست\\nخنده زنان غنچه پوست\\nدیدمش نگارین\\nغلط شدم این اوست\\nرضوان خلد باز کردند\\nکز عطر مشام روح خوش بوست\\nقدمش دویدم\\nپای فتادمش دوست\\nترک بگفتی\\nزنهار نگویی این نیکوست\\nدلم شمع یکتاست\\nپیراهن غم شمع توست\\nچشمش کرشمه\\nنرگس مست آهوست\\nگفتم نیکوییست لیکن\\nاینست بی\\u200cوفا بدخوست\\nبشنو نفسی دعای سعدی\\nعالمت دعاگوست\\n\\nسفر دراز نباشد پای طالب دوست\\nزنده ابدست آدمی کشته اوست\\nشراب خورده معنی سماع آید\\nجای جامه خویشتن بدرد پوست\\nمنظور نظر\\nترک خویش بگوید خصم عربده جوست\\nحقیر نشماری چشم فقیر\\nقطره قطره باران جوست\\nنمی\\u200cرود کمندش همی\\u200cبرد مشتاق\\nجای پند نصیحت کنان بیهده گوست\\nمیانه خاک اوفتاده\\u200cای بینی\\nبپرس چوگان مپرس گوست\\nنرسد بندگان مخلص\\nرواست می\\u200cکنی بکن نکوست\\nسرو سهی راست وجود قدر\\nغالیه خاک پای بوست\\nبسی بگفت خداوند عقل نشنیدم\\nدل غمزه خوبان سنگ سبوست\\nدشمن سرند سعدی\\nدوستی نگوید حکایت دوست\\nدیده خونین نبشته قصه عشق\\nنظر صفحه مکن توست\\n\\nچشمم نمی\\u200cآید گویم اوست\\nچشم عاشقان نبندد دوست\\nمستان نشیند ترک مستوری کند\\nآبروی نیکنامان خرابات جوست\\nخداوندان معنی نغلطاند سماع\\nاولت مغزی بباید برون آیی پوست\\nبنده\\u200cام تاج خواهی سرم تبر\\nعاشقان آید معشوقان نکوست\\nعقل باری خسروی می\\u200cکرد ملک وجود\\nباز فرهاد عاشق شیرین اوست\\nعنبرین چوگان زلفش استقصا کنی\\nمویی دلی بینی سرگردان گوست\\nسعدیا چندان خواهی وصف یار\\nحسن گل بیش قیاس بلبل بسیارگوست\\n\\nیار خداوند یار اوست\\nبیداد قبول اختیار اوست\\nدریای عشق حقیقت نیست\\nاهل حقیقت اوست\\nعهد لیلی این مجنون نبوده\\u200cاند\\nوین فتنه برنخاست روزگار اوست\\nصاحبدلی نماند این فصل نوبهار\\nعاشق گل مجروح اوست\\nدانی خاک رشک می\\u200cبرم\\nخاک نیکبخت رهگذار اوست\\nباور مکن عقل ببرد\\nعقل ببرد نگار اوست\\nدیگران منظر زیبا نظر کنند\\nنظر قدرت پروردگار اوست\\nاینم قبول بمیرم آستان\\nنسبتم کنند خدمتگزار اوست\\nجور مرادی درویشی هلاک\\nصبر نیست محبت کار اوست\\nسعدی رضای دوست طلب حظ خویش\\nعبد کند خداوندگار اوست\\n\\nخورشید سایه زلف شام اوست\\nطوبی غلام قد صنوبرخرام اوست\\nقامتست نی حقیقت قیامتست\\nزیرا رستخیز اندر قیام اوست\\nمرگ دل خوشست این واقعه مرا\\nکآب حیات یاقوت فام اوست\\nبوی بهار می\\u200cدمدم نسیم صبح\\nبهشت می\\u200cگذرد پیام اوست\\nدل عشوه می\\u200cفروخت مرغ زیرکم\\nاینک فتاده زلف اوست\\nبیچاره مانده\\u200cام روزی\\nاینک فتاده\\u200cام غریبی کام اوست\\nلحظه برم دل اندیشه خون\\nغلام کیست سعدی غلام اوست\\n\\nدل گوی خم چوگان اوست\\nموقف آزادگان میدان اوست\\nکوی دوست نیست برند\\nسلسله پای جمع زلف پریشان اوست\\nنصیحت کنند بی\\u200cخبرانم صبر\\nدرد مرا حکیم صبر درمان اوست\\nکند انعام مسکین نگاه\\nنکند حاکمست بنده فرمان اوست\\nبزند بی\\u200cگناه عادت بخت منست\\nبنوازد غایت احسان اوست\\nمیل ندارم باغ نگیرم سرو\\nسروی لایقست قد خرامان اوست\\nبتواند نشست دلش غایبست\\nبتواند گریخت زندان اوست\\nحیرت عشاق عیب کند بصر\\nبهره عیش حیران اوست\\nگلی ندید چمن روزگار\\nخاصه مرغی بلبل بستان اوست\\nمرغی زنند سخت کمانان تیر\\nحیف بلبلی کاین دستان اوست\\nسعدی طالبی رنج\\nکعبه دیدار دوست صبر بیابان اوست\\n\\nگزیرست ناگزیر دوست\\nقول جهان مهر برمگیر دوست\\nبندگی صغیری گرت قبول کند\\nسپاس فضلی کبیر دوست\\nجای دوست گرت جهان بخشند\\nرضا متاعی حقیر دوست\\nجهان نعیم بهشت\\nنعمتیست بازآورد فقیر دوست\\nقبول کنندت سپاس داری\\nهلاک شوی منتی پذیر دوست\\nمرا دیده دیدار دوست برکردم\\nحلال نیست نهم تیر دوست\\nمصور گزیر عشق\\nروم نمی\\u200cباشدم گزیر دوست\\nطریق اسیر دشمن\\nخرید نشاید خرید اسیر دوست\\nضمیر آید عالم\\nنپرداختم ضمیر دوست\\nنظیر نداری\\nنیم بدل گیرم نظیر دوست\\nرضای دوست نگه صبر سعدی\\nدوستی ناله نفیر دوست\\n\\nصبحی مبارکست نظر جمال دوست\\nخوردن درخت امید وصال دوست\\nبختم نخفته خواب بامداد\\nبرخاستم طالع فرخنده فال دوست\\nدل برون غم دنیا آخرت\\nخانه جای رخت مجال دوست\\nخواهم بیخ صحبت اغیار برکنم\\nباغ دل رها نکنم نهال دوست\\nتشریف ندانم بیخودی\\nکاین دوست نظرم خیال دوست\\nهوشم نماند عقل برفت سخن نبست\\nمقبل محو کمال دوست\\nسعدی حجاب نیست آیینه پاک\\nزنگارخورده بنماید جمال دوست\\n\\nگفتم خواب ببینم خیال دوست\\nاینک علی الصباح نظر جمال دوست\\nهلال عید بدیدند\\nعیدست آنک ابروی هلال دوست\\nدگر سرو بلند التفات نیست\\nدوستی قامت بااعتدال دوست\\nزان بیخودم عاشق صادق نباشدش\\nپروای نفس خویشتن اشتغال دوست\\nخواب دیده سعدی دگر مگرد\\nدیده جای خواب خیال دوست\\n\\nصبح می\\u200cخندد گریه کنان غم دوست\\nصبح داری خبر مقدم دوست\\nخودم گریه همی\\u200cآید خنده\\nتبسم کنی بی\\u200cخبر مبسم دوست\\nنسیم سحر دلارام بگوی\\nندانم محرم دوست\\nکم یار دل اغیار مگیر\\nدشمن این نیک پسندد گیری کم دوست\\nجانب خصمت ارادت نظرست\\nضایع نگذاری طرف معظم دوست\\nآنم عدو دانی نیک\\nدل دشمن خبر عالم دوست\\nنی نی حال خسته مگوی\\nغباری ننشیند دل خرم دوست\\nغم خویشست دل سعدی\\nغم کند غم دوست'"
            ]
          },
          "metadata": {
            "tags": []
          },
          "execution_count": 30
        }
      ]
    },
    {
      "cell_type": "markdown",
      "metadata": {
        "id": "qdOZXQL_e1ha"
      },
      "source": [
        "####Convert word to index"
      ]
    },
    {
      "cell_type": "code",
      "metadata": {
        "colab": {
          "base_uri": "https://localhost:8080/"
        },
        "id": "pdzUhRPefEql",
        "outputId": "53a849c3-67f9-44e5-f718-fea6ba9ca3bd"
      },
      "source": [
        "chars = list(set(text))\n",
        "char_indices = dict((c, i) for i, c in enumerate(chars))\n",
        "indices_char = dict((i, c) for i, c in enumerate(chars))\n",
        "\n",
        "vocab_size = len(chars)\n",
        "print('Vocabulary size: {}'.format(vocab_size))"
      ],
      "execution_count": 31,
      "outputs": [
        {
          "output_type": "stream",
          "text": [
            "Vocabulary size: 42\n"
          ],
          "name": "stdout"
        }
      ]
    },
    {
      "cell_type": "markdown",
      "metadata": {
        "id": "RNHATLMIgezF"
      },
      "source": [
        "####Data preparation\n"
      ]
    },
    {
      "cell_type": "code",
      "metadata": {
        "colab": {
          "base_uri": "https://localhost:8080/"
        },
        "id": "TilKkOzhebsH",
        "outputId": "e206964c-fe1c-42bf-ee32-758899f832ac"
      },
      "source": [
        "X = [] # training array\n",
        "Y = [] # target array\n",
        "\n",
        "length = len(text)\n",
        "seq_length = 100 # number of characters to consider before predicting a character\n",
        "\n",
        "# Iterate over length of text and create sequences stored in X, true values stored in Y\n",
        "# true values being which character would actually come after sequence stored in X\n",
        "for i in range(0, length - seq_length, 1):\n",
        "    sequence = text[i:i + seq_length]\n",
        "    label = text[i + seq_length]\n",
        "    X.append([char_indices[char] for char in sequence])\n",
        "    Y.append(char_indices[label])\n",
        "\n",
        "print('Number of sequences: {}'.format(len(X)))"
      ],
      "execution_count": 32,
      "outputs": [
        {
          "output_type": "stream",
          "text": [
            "Number of sequences: 42597\n"
          ],
          "name": "stdout"
        }
      ]
    },
    {
      "cell_type": "markdown",
      "metadata": {
        "id": "cFmEw9yeglm4"
      },
      "source": [
        "####Reshape dimensions"
      ]
    },
    {
      "cell_type": "code",
      "metadata": {
        "colab": {
          "base_uri": "https://localhost:8080/"
        },
        "id": "x4Cecmd_gZaW",
        "outputId": "5adb6f43-979e-406c-ac7a-90a356d8bac2"
      },
      "source": [
        "X_new = np.reshape(X, (len(X), seq_length, 1))\n",
        "# Scale values\n",
        "X_new = X_new/float(len(chars))\n",
        "# One-hot encode Y to remove ordinal relationships\n",
        "Y_new = np_utils.to_categorical(Y)\n",
        "\n",
        "X_new.shape, Y_new.shape"
      ],
      "execution_count": 33,
      "outputs": [
        {
          "output_type": "execute_result",
          "data": {
            "text/plain": [
              "((42597, 100, 1), (42597, 42))"
            ]
          },
          "metadata": {
            "tags": []
          },
          "execution_count": 33
        }
      ]
    },
    {
      "cell_type": "markdown",
      "metadata": {
        "id": "9deAhsgPgtY7"
      },
      "source": [
        "##2)Character-Level LSTM Text Generation"
      ]
    },
    {
      "cell_type": "markdown",
      "metadata": {
        "id": "gGC-Zr9egwGt"
      },
      "source": [
        "###Building RNN"
      ]
    },
    {
      "cell_type": "code",
      "metadata": {
        "colab": {
          "base_uri": "https://localhost:8080/"
        },
        "id": "zqTWRCzrgrXa",
        "outputId": "f8479181-2f8a-4837-b8d9-0e67436c88d9"
      },
      "source": [
        "model = Sequential()\n",
        "\n",
        "model.add(LSTM(150, input_shape = (X_new.shape[1], X_new.shape[2]), return_sequences = True))\n",
        "\n",
        "model.add(Dropout(0.1))\n",
        "\n",
        "model.add(Flatten())\n",
        "\n",
        "model.add(Dense(Y_new.shape[1], activation = 'softmax'))\n",
        "\n",
        "model.compile(loss = 'categorical_crossentropy', optimizer = 'adam')\n",
        "\n",
        "model.fit(X_new, Y_new, epochs = 1, verbose = 1)"
      ],
      "execution_count": 34,
      "outputs": [
        {
          "output_type": "stream",
          "text": [
            "1332/1332 [==============================] - 146s 108ms/step - loss: 3.0945\n"
          ],
          "name": "stdout"
        },
        {
          "output_type": "execute_result",
          "data": {
            "text/plain": [
              "<tensorflow.python.keras.callbacks.History at 0x7f2e8c5cb8d0>"
            ]
          },
          "metadata": {
            "tags": []
          },
          "execution_count": 34
        }
      ]
    },
    {
      "cell_type": "markdown",
      "metadata": {
        "id": "O4SulONPhCcW"
      },
      "source": [
        "###Generate text"
      ]
    },
    {
      "cell_type": "code",
      "metadata": {
        "colab": {
          "base_uri": "https://localhost:8080/"
        },
        "id": "Fno5gyaGg118",
        "outputId": "3aa759ac-3753-4a0d-e9da-6f94f854be2e"
      },
      "source": [
        "# Random start\n",
        "start = np.random.randint(0, len(X)-1)\n",
        "string_mapped = list(X[start])\n",
        "full_string = [indices_char[value] for value in string_mapped]\n",
        "\n",
        "# Generate text\n",
        "for i in range(400):\n",
        "    x = np.reshape(string_mapped, (1, len(string_mapped), 1))\n",
        "    x = x / float(len(chars))\n",
        "    \n",
        "    pred_index = np.argmax(model.predict(x, verbose = 0))\n",
        "    seq = [indices_char[value] for value in string_mapped]\n",
        "    full_string.append(indices_char[pred_index])\n",
        "    \n",
        "    string_mapped.append(pred_index)\n",
        "    string_mapped = string_mapped[1:len(string_mapped)]\n",
        "    \n",
        "# Combine text\n",
        "newtext = ''\n",
        "for char in full_string:\n",
        "    newtext = newtext + char\n",
        "\n",
        "print(newtext)"
      ],
      "execution_count": 35,
      "outputs": [
        {
          "output_type": "stream",
          "text": [
            "رک بسپارند\n",
            "چشم ترک بینند زلف هندو\n",
            "مغان خدمت می‌کنند فرخار\n",
            "ندیده‌اند دلبران\n",
            "حصار قلعه باغی منجنیق\n",
            "باماا ن ا د اا با ااا ت\n",
            " ت ا اا  اا  ا ا ت\n",
            " ن\n",
            " ن د  ن   ن  ایااا\n",
            " ن ا ن  ا   ا  اا ا ا ا ن ن   ا   ا   ا  ا ا ا ا   ا   ا   ا  ا  ا ا  ا   ا       ا ا  ا   ا       ا   ا    ا   ا           ا   ا   ا                   ا                                                                                                                                                                                         \n"
          ],
          "name": "stdout"
        }
      ]
    },
    {
      "cell_type": "markdown",
      "metadata": {
        "id": "3esqBtv6i59m"
      },
      "source": [
        "####Predicting Next Words"
      ]
    },
    {
      "cell_type": "code",
      "metadata": {
        "id": "EwnPnDDkhG-T"
      },
      "source": [
        "# Lowercase all text\n",
        "# text = corpus.lower()\n",
        "text = text.split('\\n')\n",
        "\n",
        "# Create Tokenizer object to convert words to sequences of integers\n",
        "tokenizer = Tokenizer(num_words = None, filters = '#$%&()*+-<=>@[\\\\]^_`{|}~\\t\\n', lower = False)\n",
        "\n",
        "# Train tokenizer to the texts\n",
        "tokenizer.fit_on_texts(text)\n",
        "total_words = len(tokenizer.word_index) + 1\n",
        "\n",
        "# Convert list of strings into flat dataset of sequences of tokens\n",
        "sequences = []\n",
        "for line in text:\n",
        "    token_list = tokenizer.texts_to_sequences([line])[0]\n",
        "    for i in range(1, len(token_list)):\n",
        "        n_gram_sequence = token_list[:i+1]\n",
        "        sequences.append(n_gram_sequence)\n",
        "\n",
        "# Pad sequences to ensure equal lengths\n",
        "max_seq_len = max([len(x) for x in sequences])\n",
        "sequences = np.array(pad_sequences(sequences, maxlen = max_seq_len, padding = 'pre'))\n",
        "\n",
        "# Create n-grams sequence predictors and labels\n",
        "predictors, label = sequences[:, :-1], sequences[:, -1]\n",
        "label = ku.to_categorical(label, num_classes = total_words)"
      ],
      "execution_count": 36,
      "outputs": []
    },
    {
      "cell_type": "markdown",
      "metadata": {
        "id": "rc_F17wUlE4i"
      },
      "source": [
        "####Creat Model"
      ]
    },
    {
      "cell_type": "code",
      "metadata": {
        "colab": {
          "base_uri": "https://localhost:8080/"
        },
        "id": "58F1meFjkoci",
        "outputId": "527012ba-0358-4e43-c72d-f750f4bea900"
      },
      "source": [
        "# Input layer takes sequence of words as input\n",
        "input_len = max_seq_len - 1\n",
        "model = Sequential()\n",
        "model.add(Embedding(total_words, 10, input_length = input_len))\n",
        "model.add(LSTM(150))\n",
        "model.add(Dropout(0.1))\n",
        "model.add(Dense(total_words, activation = 'softmax'))\n",
        "model.compile(loss = 'categorical_crossentropy', optimizer = 'adam')\n",
        "\n",
        "# Use 10 epoch for efficacy\n",
        "model.fit(predictors, label, epochs = 10, verbose = 1)"
      ],
      "execution_count": 37,
      "outputs": [
        {
          "output_type": "stream",
          "text": [
            "Epoch 1/10\n",
            "188/188 [==============================] - 5s 17ms/step - loss: 7.9572\n",
            "Epoch 2/10\n",
            "188/188 [==============================] - 3s 17ms/step - loss: 7.4828\n",
            "Epoch 3/10\n",
            "188/188 [==============================] - 3s 17ms/step - loss: 7.3567\n",
            "Epoch 4/10\n",
            "188/188 [==============================] - 3s 17ms/step - loss: 7.2959\n",
            "Epoch 5/10\n",
            "188/188 [==============================] - 3s 17ms/step - loss: 7.2420\n",
            "Epoch 6/10\n",
            "188/188 [==============================] - 3s 17ms/step - loss: 7.1854\n",
            "Epoch 7/10\n",
            "188/188 [==============================] - 3s 16ms/step - loss: 7.0518\n",
            "Epoch 8/10\n",
            "188/188 [==============================] - 3s 17ms/step - loss: 6.9122\n",
            "Epoch 9/10\n",
            "188/188 [==============================] - 3s 17ms/step - loss: 6.7786\n",
            "Epoch 10/10\n",
            "188/188 [==============================] - 3s 17ms/step - loss: 6.6266\n"
          ],
          "name": "stdout"
        },
        {
          "output_type": "execute_result",
          "data": {
            "text/plain": [
              "<tensorflow.python.keras.callbacks.History at 0x7f2e8a940b10>"
            ]
          },
          "metadata": {
            "tags": []
          },
          "execution_count": 37
        }
      ]
    },
    {
      "cell_type": "markdown",
      "metadata": {
        "id": "hyp-YI0ilQDC"
      },
      "source": [
        "###Generate Line"
      ]
    },
    {
      "cell_type": "code",
      "metadata": {
        "id": "StLZojwwlHYs"
      },
      "source": [
        "# Function to generate line\n",
        "def generate_line(text, next_words, max_seq_len, model):\n",
        "    for j in range(next_words):\n",
        "        token_list = tokenizer.texts_to_sequences([text])[0]\n",
        "        token_list = pad_sequences([token_list], maxlen = max_seq_len - 1, padding = 'pre')\n",
        "        predicted = model.predict_classes(token_list, verbose = 0)\n",
        "        \n",
        "        output_word = ''\n",
        "        for word, index in tokenizer.word_index.items():\n",
        "            if index == predicted:\n",
        "                output_word = word\n",
        "                break\n",
        "        text += ' ' + output_word\n",
        "    return text"
      ],
      "execution_count": 38,
      "outputs": []
    },
    {
      "cell_type": "markdown",
      "metadata": {
        "id": "hRsye8SV9iD0"
      },
      "source": [
        "####Line generating output"
      ]
    },
    {
      "cell_type": "code",
      "metadata": {
        "colab": {
          "base_uri": "https://localhost:8080/",
          "height": 89
        },
        "id": "7u48yuQ4lZGM",
        "outputId": "e6fee45a-1025-489e-84f7-f2b9fd2b38ae"
      },
      "source": [
        "generate_line(\"مرغ هوا را\", 5, max_seq_len, model)"
      ],
      "execution_count": 39,
      "outputs": [
        {
          "output_type": "stream",
          "text": [
            "/usr/local/lib/python3.7/dist-packages/tensorflow/python/keras/engine/sequential.py:450: UserWarning: `model.predict_classes()` is deprecated and will be removed after 2021-01-01. Please use instead:* `np.argmax(model.predict(x), axis=-1)`,   if your model does multi-class classification   (e.g. if it uses a `softmax` last-layer activation).* `(model.predict(x) > 0.5).astype(\"int32\")`,   if your model does binary classification   (e.g. if it uses a `sigmoid` last-layer activation).\n",
            "  warnings.warn('`model.predict_classes()` is deprecated and '\n"
          ],
          "name": "stderr"
        },
        {
          "output_type": "execute_result",
          "data": {
            "application/vnd.google.colaboratory.intrinsic+json": {
              "type": "string"
            },
            "text/plain": [
              "'مرغ هوا را این نخواهم مرا دوست دوست'"
            ]
          },
          "metadata": {
            "tags": []
          },
          "execution_count": 39
        }
      ]
    },
    {
      "cell_type": "code",
      "metadata": {
        "colab": {
          "base_uri": "https://localhost:8080/",
          "height": 89
        },
        "id": "2i-Xfx2hlfql",
        "outputId": "b3588a34-390e-4d2b-fe4d-09e4b53c88c6"
      },
      "source": [
        "generate_line(\"نخل تناور کند\", 5, max_seq_len, model)"
      ],
      "execution_count": 40,
      "outputs": [
        {
          "output_type": "stream",
          "text": [
            "/usr/local/lib/python3.7/dist-packages/tensorflow/python/keras/engine/sequential.py:450: UserWarning: `model.predict_classes()` is deprecated and will be removed after 2021-01-01. Please use instead:* `np.argmax(model.predict(x), axis=-1)`,   if your model does multi-class classification   (e.g. if it uses a `softmax` last-layer activation).* `(model.predict(x) > 0.5).astype(\"int32\")`,   if your model does binary classification   (e.g. if it uses a `sigmoid` last-layer activation).\n",
            "  warnings.warn('`model.predict_classes()` is deprecated and '\n"
          ],
          "name": "stderr"
        },
        {
          "output_type": "execute_result",
          "data": {
            "application/vnd.google.colaboratory.intrinsic+json": {
              "type": "string"
            },
            "text/plain": [
              "'نخل تناور کند دوست مرا آمده\\u200cست دوست دوست'"
            ]
          },
          "metadata": {
            "tags": []
          },
          "execution_count": 40
        }
      ]
    },
    {
      "cell_type": "code",
      "metadata": {
        "colab": {
          "base_uri": "https://localhost:8080/",
          "height": 89
        },
        "id": "iDpyltV1B35w",
        "outputId": "d6197f56-1910-4fdf-f69a-23aa361088f3"
      },
      "source": [
        "generate_line(\"حمد و ثنا\", 5, max_seq_len, model)"
      ],
      "execution_count": 41,
      "outputs": [
        {
          "output_type": "stream",
          "text": [
            "/usr/local/lib/python3.7/dist-packages/tensorflow/python/keras/engine/sequential.py:450: UserWarning: `model.predict_classes()` is deprecated and will be removed after 2021-01-01. Please use instead:* `np.argmax(model.predict(x), axis=-1)`,   if your model does multi-class classification   (e.g. if it uses a `softmax` last-layer activation).* `(model.predict(x) > 0.5).astype(\"int32\")`,   if your model does binary classification   (e.g. if it uses a `sigmoid` last-layer activation).\n",
            "  warnings.warn('`model.predict_classes()` is deprecated and '\n"
          ],
          "name": "stderr"
        },
        {
          "output_type": "execute_result",
          "data": {
            "application/vnd.google.colaboratory.intrinsic+json": {
              "type": "string"
            },
            "text/plain": [
              "'حمد و ثنا این برافکن آمده\\u200cست اوست اوست'"
            ]
          },
          "metadata": {
            "tags": []
          },
          "execution_count": 41
        }
      ]
    },
    {
      "cell_type": "code",
      "metadata": {
        "colab": {
          "base_uri": "https://localhost:8080/",
          "height": 89
        },
        "id": "iC87RHmjCPK1",
        "outputId": "913b21d4-9b4b-4c75-da49-a6bfd4417891"
      },
      "source": [
        "generate_line(\"ما نتوانیم حق\", 5, max_seq_len, model)"
      ],
      "execution_count": 42,
      "outputs": [
        {
          "output_type": "stream",
          "text": [
            "/usr/local/lib/python3.7/dist-packages/tensorflow/python/keras/engine/sequential.py:450: UserWarning: `model.predict_classes()` is deprecated and will be removed after 2021-01-01. Please use instead:* `np.argmax(model.predict(x), axis=-1)`,   if your model does multi-class classification   (e.g. if it uses a `softmax` last-layer activation).* `(model.predict(x) > 0.5).astype(\"int32\")`,   if your model does binary classification   (e.g. if it uses a `sigmoid` last-layer activation).\n",
            "  warnings.warn('`model.predict_classes()` is deprecated and '\n"
          ],
          "name": "stderr"
        },
        {
          "output_type": "execute_result",
          "data": {
            "application/vnd.google.colaboratory.intrinsic+json": {
              "type": "string"
            },
            "text/plain": [
              "'ما نتوانیم حق دوست سعدی دوست دوست دوست'"
            ]
          },
          "metadata": {
            "tags": []
          },
          "execution_count": 42
        }
      ]
    },
    {
      "cell_type": "code",
      "metadata": {
        "colab": {
          "base_uri": "https://localhost:8080/",
          "height": 89
        },
        "id": "ke2PGLldCY_Z",
        "outputId": "d02a9d7f-6ded-48d3-9ad8-eae24d9cfd65"
      },
      "source": [
        "generate_line(\"سلام من سحر\", 5, max_seq_len, model)"
      ],
      "execution_count": 43,
      "outputs": [
        {
          "output_type": "stream",
          "text": [
            "/usr/local/lib/python3.7/dist-packages/tensorflow/python/keras/engine/sequential.py:450: UserWarning: `model.predict_classes()` is deprecated and will be removed after 2021-01-01. Please use instead:* `np.argmax(model.predict(x), axis=-1)`,   if your model does multi-class classification   (e.g. if it uses a `softmax` last-layer activation).* `(model.predict(x) > 0.5).astype(\"int32\")`,   if your model does binary classification   (e.g. if it uses a `sigmoid` last-layer activation).\n",
            "  warnings.warn('`model.predict_classes()` is deprecated and '\n"
          ],
          "name": "stderr"
        },
        {
          "output_type": "execute_result",
          "data": {
            "application/vnd.google.colaboratory.intrinsic+json": {
              "type": "string"
            },
            "text/plain": [
              "'سلام من سحر دوست سعدی این خوش آمده\\u200cست'"
            ]
          },
          "metadata": {
            "tags": []
          },
          "execution_count": 43
        }
      ]
    },
    {
      "cell_type": "markdown",
      "metadata": {
        "id": "H7GbeDAhHzwT"
      },
      "source": [
        "#***Extra Work"
      ]
    },
    {
      "cell_type": "code",
      "metadata": {
        "colab": {
          "base_uri": "https://localhost:8080/"
        },
        "id": "Z6kAIYOnJFIu",
        "outputId": "cd46b69d-b0a8-4a14-b5a2-f771d386c22c"
      },
      "source": [
        "list = []\n",
        "stop_words = 'و در به از كه مي اين است را با هاي براي آن يك شود شده خود ها كرد شد اي تا كند بر بود گفت نيز وي هم كنند دارد ما كرده يا اما بايد دو اند هر خواهد او مورد آنها باشد ديگر مردم نمي بين پيش پس اگر همه صورت يكي هستند بي من دهد هزار نيست استفاده داد داشته راه داشت چه همچنين كردند داده بوده دارند همين ميليون سوي شوند بيشتر بسيار روي گرفته هايي تواند اول نام هيچ چند جديد بيش شدن كردن كنيم نشان حتي اينكه ولی توسط چنين برخي نه ديروز دوم درباره بعد مختلف گيرد شما گفته آنان بار طور گرفت دهند گذاري بسياري طي بودند ميليارد بدون تمام كل تر براساس شدند ترين امروز باشند ندارد چون قابل گويد ديگري همان خواهند قبل آمده اكنون تحت طريق گيري جاي هنوز چرا البته كنيد سازي سوم كنم بلكه زير توانند ضمن فقط بودن حق آيد وقتي اش يابد نخستين مقابل خدمات امسال تاكنون مانند تازه آورد فكر آنچه نخست نشده شايد چهار جريان پنج ساخته زيرا نزديك برداري كسي ريزي رفت گردد مثل آمد ام بهترين دانست كمتر دادن تمامي جلوگيري بيشتري ايم ناشي چيزي آنكه بالا بنابراين ايشان بعضي دادند داشتند برخوردار نخواهد هنگام نبايد غير نبود ديده وگو داريم چگونه بندي خواست فوق ده نوعي هستيم ديگران همچنان سراسر ندارند گروهي سعي روزهاي آنجا يكديگر كردم بيست بروز سپس رفته آورده نمايد باشيم گويند زياد خويش همواره گذاشته شش نداشته شناسي خواهيم آباد داشتن نظير همچون باره نكرده شان سابق هفت دانند جايي بی جز زیرِ رویِ سریِ تویِ جلویِ پیشِ عقبِ بالایِ خارجِ وسطِ بیرونِ سویِ کنارِ پاعینِ نزدِ نزدیکِ دنبالِ حدودِ برابرِ طبقِ مانندِ ضدِّ هنگامِ برایِ مثلِ بارة اثرِ تولِ علّتِ سمتِ عنوانِ قصدِ روب جدا کی که چیست هست کجا کجاست کَی چطور کدام آیا مگر چندین یک چیزی دیگر کسی بعری هیچ چیز جا کس هرگز یا تنها بلکه خیاه بله بلی آره آری مرسی البتّه لطفاً ّه انکه وقتیکه همین پیش مدّتی هنگامی مان تان ۰ ۱ ۲ ۳ ۴ ۵ ۶ ۷ ۸ ۹ … ! '' # ( ) * , - . / : [ ] « » ، ؛ ؟ '\n",
        "with open('/content/poetry.txt', 'r') as fh:\n",
        "    for line in fh:\n",
        "        text_tokens = word_tokenize(line)\n",
        "        tokens_without_sw = [word for word in text_tokens if not word in stop_words]\n",
        "        filtered_sentence = (\" \").join(tokens_without_sw)\n",
        "        filtered_paragraph = ('\\n').join(filtered_sentence)\n",
        "        list.append(filtered_sentence)\n",
        "    #print(list)\n",
        "\n",
        "text = '\\n'.join(list)\n",
        "\n",
        "characters = sorted(set(text))   #filter out all the unique character\n",
        "\n",
        "char_to_index = dict((c, i) for i, c in enumerate(characters))  #assigne one number to each character -> number as a key\n",
        "index_to_char = dict((i, c) for i, c in enumerate(characters))  #character as a value\n",
        "\n",
        "SEQ_LENGTH = 40 \n",
        "STEP_SIZE = 3  \n",
        "\n",
        "sentences = []\n",
        "next_char = []\n",
        "\n",
        "#fill up the link based on the seq_length and step_size\n",
        "#it start from first until the last seq and always have the step_size in between\n",
        "for i in range(0, len(text) - SEQ_LENGTH, STEP_SIZE):\n",
        "    #add the sentence -> i:starting position/ till the sequence we wanna add to sentence -> 0-4\n",
        "    sentences.append(text[i: i + SEQ_LENGTH])\n",
        "    #specify the next character -> 5\n",
        "    next_char.append(text[i + SEQ_LENGTH])\n",
        "\n",
        "#change the character and string format to numerical format\n",
        "#one dimension for all of the possible sentences that we have\n",
        "#one dimension for all the individual positions in the sentences and \n",
        "#one more positions for all the possible characters that we can have\n",
        "\n",
        "x = np.zeros((len(sentences), #how many sentences they are\n",
        "              SEQ_LENGTH, #the length of the sentences\n",
        "              len(characters)), #the amount of possible characters\n",
        "             dtype=np.bool)\n",
        "\n",
        "y = np.zeros((len(sentences),\n",
        "              len(characters)), \n",
        "             dtype=np.bool)\n",
        "\n",
        "\n",
        "#fill up this erase \n",
        "for i, satz in enumerate(sentences):  #taking all the sequences we have just created\n",
        "    for t, char in enumerate(satz):   #for each of those sentenceses we enumerate all the character in those sentences\n",
        "        x[i, t, char_to_index[char]] = 1\n",
        "    y[i, char_to_index[next_char[i]]] = 1\n",
        "\n",
        "model = Sequential()\n",
        "model.add(LSTM(128, input_shape=(SEQ_LENGTH, len(characters))))\n",
        "model.add(Dense(len(characters)))\n",
        "model.add(Activation('softmax'))\n",
        "\n",
        "model.compile(loss='categorical_crossentropy',\n",
        "              optimizer=RMSprop(lr=0.01))\n",
        "\n",
        "model.fit(x, y, batch_size=256, epochs=4) #how many examples we put in to the network at once\n",
        "\n",
        "\n",
        "#takes the prediction of our model and fix one character\n",
        "def sample(preds, temperature=1.0):\n",
        "    preds = np.asarray(preds).astype('float64')\n",
        "    preds = np.log(preds) / temperature\n",
        "    exp_preds = np.exp(preds)\n",
        "    preds = exp_preds / np.sum(exp_preds)\n",
        "    probas = np.random.multinomial(1, preds, 1)\n",
        "    return np.argmax(probas)\n",
        "\n",
        "\n",
        "def generate_text(length, temperature):\n",
        "    #starting text provide the input for our NN to predict the first next character\n",
        "    start_index = random.randint(0, len(text) - SEQ_LENGTH - 1)\n",
        "    generated = ''\n",
        "    sentence = text[start_index: start_index + SEQ_LENGTH]\n",
        "    generated += sentence\n",
        "    for i in range(length):\n",
        "        x_predictions = np.zeros((1, SEQ_LENGTH, len(characters)))\n",
        "        for t, char in enumerate(sentence):\n",
        "            x_predictions[0, t, char_to_index[char]] = 1\n",
        "\n",
        "        #prediction\n",
        "        predictions = model.predict(x_predictions, verbose=0)[0]\n",
        "        next_index = sample(predictions, temperature)\n",
        "        next_character = index_to_char[next_index]\n",
        "\n",
        "        generated += next_character\n",
        "        sentence = sentence[1:] + next_character\n",
        "    return generated\n",
        "\n",
        "\n",
        "print(\"----------0.2--------\")\n",
        "print(generate_text(300, 0.2))\n",
        "print(\"----------0.4--------\")\n",
        "print(generate_text(300, 0.4))\n",
        "print(\"----------0.5--------\")\n",
        "print(generate_text(300, 0.5))\n",
        "print(\"----------0.6--------\")\n",
        "print(generate_text(300, 0.6))\n",
        "print(\"----------0.7--------\")\n",
        "print(generate_text(300, 0.7))\n",
        "print(\"----------0.8--------\")\n",
        "print(generate_text(300, 0.8))"
      ],
      "execution_count": 44,
      "outputs": [
        {
          "output_type": "stream",
          "text": [
            "Epoch 1/4\n",
            "56/56 [==============================] - 11s 158ms/step - loss: 3.2074\n",
            "Epoch 2/4\n",
            "56/56 [==============================] - 9s 158ms/step - loss: 2.6500\n",
            "Epoch 3/4\n",
            "56/56 [==============================] - 9s 158ms/step - loss: 2.4637\n",
            "Epoch 4/4\n",
            "56/56 [==============================] - 9s 158ms/step - loss: 2.3390\n",
            "----------0.2--------\n",
            "سن طبل عشق فروکوفت\n",
            "بانگ برآمد غارت دل دیدی می‌کند می‌کند می‌رود می‌کند می‌باند بی‌کند می‌بوی می‌کند می‌کند می‌کند می‌برد می‌رود می‌کند می‌کند می‌کند می‌بوش می‌کند می‌کند می‌کند می‌کند می‌کند می‌کند می‌کند می‌کند می‌کند می‌بود می‌باند می‌کند می‌کند می‌برد می‌باری می‌رود بی‌اند می‌کند می‌کند می‌کند می‌کند می‌کند می‌کند می‌کند می‌رود می‌رود \n",
            "----------0.4--------\n",
            "بیند خواب\n",
            "ببستی چشم سحارت\n",
            "بدین چشم خواب برست بازیان بی‌سان می‌رود می‌کند بی‌روان جان\n",
            "نمی‌ورد می‌نود دان عشق آرخان بی‌اوی دل بوست\n",
            "گوی دین می‌توان برخوان می‌کند می‌کند می‌بانی می‌نهان برآت می‌رود دست\n",
            "برو سعدی نیای می‌ندی بی‌کند ملال\n",
            "\n",
            "برخت دل بوز خوش می‌کند بی‌رود وشم نیمین نمی‌کند می‌رود می‌ندی می‌نوی می‌رود قیال می‌کند سین می‌رود سرو می‌با\n",
            "----------0.5--------\n",
            "زند باری دوست\n",
            "خاک پایش بوسه خواهم آبم ببزی بروزی دوست\n",
            "درآی می‌گوین آید آیر نیست مال نیاند برادم مرام خوری می‌روی می‌کند می‌کند مقل بینت\n",
            "مرودی باوید بی‌اند نیاد زین براین آمز دوست\n",
            "\n",
            "خور یان بی‌نوده دل صبر بازدی بربای بین نیابین می‌کند بی‌رویشار بی‌بند باز آید سوز گوست\n",
            "\n",
            "می‌اوی آمدی نیگان می‌هور می‌نوی دوست\n",
            "دل دیر می‌کند گویه برار می‌پایدار ب\n",
            "----------0.6--------\n",
            "ایی می‌رفت بستان‌ها\n",
            "خویشتنم کردی بوی گل می‌کار سعدی می‌بند عشق نیستی چشم این جان بیکد جهیم سعدی مالن بکند زین شاها بی‌نهی دوست\n",
            "\n",
            "بیر حشق بازوین نلست\n",
            "خونی زیبان چشم نگشت\n",
            "می‌رود بردی کور جاب وازد مداض\n",
            "برز گفتین بودیی عشق شیر پرودی اوستان بازبان مرکم بازشد برون می‌تان سرآوی\n",
            "سعدی نبروزی دوست\n",
            "عشم بی‌اوی هایدم\n",
            "برز زیی می‌کند اینان نمویز برخای\n",
            "عا\n",
            "----------0.7--------\n",
            "گر شعر نخواهم نویسم مگس\n",
            "زحمتم می‌دهد سخن بردان درآکنه شیر صبه برزوی پالم\n",
            "برآی مروم مکن وست\n",
            "درم می‌کور کمز صنال محکور بدیاد موتی بروگست\n",
            "گوی نهاید مبوی بری مروین یوروی می‌لیشی میچبی\n",
            "دل صلطی زردت معبول\n",
            "فسیع بی‌تود\n",
            "باز زیو برس بزند\n",
            "بونی کمیچ جوص حروی\n",
            "نگویی وفنام دوست\n",
            "برز غودی درمصین می‌کمد \n",
            "بنویی سرخواست\n",
            "گرست مراگار\n",
            "گوصهٔ بوست\n",
            "عالد می‌کنی ملو\n",
            "----------0.8--------\n",
            "ت کنی قبله چنینست\n",
            "آینه‌ای آفتاب نهادست\n",
            "خرآان گوی دلستی عشقاتهست مباقت\n",
            "شکر قباوند دوت حیر پی‌ست می‌برد اوصن برغبی نمست دگ لیشتگ می‌جماد غهدارم دگو مکند شکتر می‌ویر نایب\n",
            "متن ده چشر می‌تندی خیشه می‌رانگ غوحست\n",
            "عال انهالی نیستن روچی گوست\n",
            "عاز سی‌انش\n",
            "کمت دیدوید گوست کوان\n",
            "دوست مازآران جمن ناست\n",
            "تین زونای جامت نبازی\n",
            "کوخت حتله‌انم ارمدی \n",
            "ماور فحقیص \n"
          ],
          "name": "stdout"
        }
      ]
    }
  ]
}